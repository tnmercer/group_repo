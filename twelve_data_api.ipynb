{
 "cells": [
  {
   "cell_type": "code",
   "execution_count": 1,
   "id": "138c86cf-a23f-40e9-9809-7377958ea8ac",
   "metadata": {},
   "outputs": [],
   "source": [
    "import requests\n",
    "from dotenv import load_dotenv\n",
    "import os\n",
    "import json"
   ]
  },
  {
   "cell_type": "code",
   "execution_count": 2,
   "id": "21246e25-758d-4222-801d-05c90b038cb1",
   "metadata": {},
   "outputs": [
    {
     "data": {
      "text/plain": [
       "True"
      ]
     },
     "execution_count": 2,
     "metadata": {},
     "output_type": "execute_result"
    }
   ],
   "source": [
    "load_dotenv()"
   ]
  },
  {
   "cell_type": "code",
   "execution_count": 3,
   "id": "2a14d0ea-97cd-45c9-b2bf-428739bf0ba8",
   "metadata": {},
   "outputs": [],
   "source": [
    "X_RapidAPI_Key = os.getenv(\"X-RapidAPI-Key\")\n",
    "X_RapidAPI_Host = os.getenv(\"X-RapidAPI-Host\")"
   ]
  },
  {
   "cell_type": "code",
   "execution_count": 4,
   "id": "733b344d-2e3b-4b37-87d0-69f968ef5727",
   "metadata": {},
   "outputs": [
    {
     "name": "stdout",
     "output_type": "stream",
     "text": [
      "{\n",
      "    \"code\": 403,\n",
      "    \"message\": \"/mutual_funds/world is available exclusively with enterprise plans. Consider upgrading your API Key now at https://twelvedata.com/pricing\",\n",
      "    \"status\": \"error\"\n",
      "}\n"
     ]
    }
   ],
   "source": [
    "url = \"https://twelve-data1.p.rapidapi.com/mutual_funds/world\"\n",
    "\n",
    "# Update symbol to required countries\n",
    "querystring = {\"symbol\":\"EFNL\"}\n",
    "\n",
    "headers = {\n",
    "\t\"X-RapidAPI-Key\": X_RapidAPI_Key,\n",
    "\t\"X-RapidAPI-Host\": X_RapidAPI_Host\n",
    "}\n",
    "\n",
    "response = requests.request(\"GET\", url, headers=headers, params=querystring).json()\n",
    "\n",
    "print(json.dumps(response, indent=4, sort_keys=True))"
   ]
  },
  {
   "cell_type": "code",
   "execution_count": null,
   "id": "7ec6720f-6f1b-4758-951f-06b0d4aa4cf1",
   "metadata": {},
   "outputs": [],
   "source": []
  },
  {
   "cell_type": "code",
   "execution_count": null,
   "id": "d9e64cd4-4b56-49df-8cfc-021dcd8245cc",
   "metadata": {},
   "outputs": [],
   "source": []
  }
 ],
 "metadata": {
  "kernelspec": {
   "display_name": "Python (dev)",
   "language": "python",
   "name": "dev"
  },
  "language_info": {
   "codemirror_mode": {
    "name": "ipython",
    "version": 3
   },
   "file_extension": ".py",
   "mimetype": "text/x-python",
   "name": "python",
   "nbconvert_exporter": "python",
   "pygments_lexer": "ipython3",
   "version": "3.7.13"
  }
 },
 "nbformat": 4,
 "nbformat_minor": 5
}
