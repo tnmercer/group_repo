{
 "cells": [
  {
   "cell_type": "markdown",
   "id": "c7650aa4-e926-4203-8a94-f4617436e826",
   "metadata": {},
   "source": [
    "# Happy Portfolio Analysis"
   ]
  },
  {
   "cell_type": "code",
   "execution_count": 37,
   "id": "638cf160-0471-4a8b-802b-f9f609115dc7",
   "metadata": {},
   "outputs": [],
   "source": [
    "# Import relevant libraries\n",
    "\n",
    "import pickle\n",
    "import pandas as pd\n",
    "import plotly.express as px\n",
    "import numpy as np\n"
   ]
  },
  {
   "cell_type": "code",
   "execution_count": 2,
   "id": "d2703413-4729-44ff-8b32-36453b686ddc",
   "metadata": {},
   "outputs": [],
   "source": [
    "# Read in etf data from pkl file\n",
    "\n",
    "pkl_file = open('etf_df.pkl', 'rb')\n",
    "dataframe2 = pickle.load(pkl_file)\n",
    "pkl_file.close()\n",
    "\n",
    "# load etf data back into Dataframe\n",
    "all_etf_df = pd.DataFrame(dataframe2)\n",
    "\n",
    "# Convert month end prices to monthly percentage change and drop na values\n",
    "\n",
    "all_etf_df = all_etf_df.pct_change().dropna()\n"
   ]
  },
  {
   "cell_type": "code",
   "execution_count": 3,
   "id": "b2cee0d5-7ee7-4713-95be-0142b481e8f0",
   "metadata": {},
   "outputs": [
    {
     "data": {
      "text/html": [
       "<div>\n",
       "<style scoped>\n",
       "    .dataframe tbody tr th:only-of-type {\n",
       "        vertical-align: middle;\n",
       "    }\n",
       "\n",
       "    .dataframe tbody tr th {\n",
       "        vertical-align: top;\n",
       "    }\n",
       "\n",
       "    .dataframe thead th {\n",
       "        text-align: right;\n",
       "    }\n",
       "</style>\n",
       "<table border=\"1\" class=\"dataframe\">\n",
       "  <thead>\n",
       "    <tr style=\"text-align: right;\">\n",
       "      <th></th>\n",
       "      <th>iShares MSCI Finland Capped</th>\n",
       "      <th>iShares MSCI Denmark Capped</th>\n",
       "      <th>iShares MSCI Norway Capped</th>\n",
       "      <th>iShares MSCI Netherlands</th>\n",
       "      <th>iShares MSCI Switzerland Capped</th>\n",
       "      <th>iShares MSCI Sweden Capped</th>\n",
       "      <th>iShares MSCI New Zealand Capped</th>\n",
       "      <th>iShares MSCI Canada</th>\n",
       "      <th>iShares MSCI Austria Capped</th>\n",
       "      <th>iShares MSCI Australia</th>\n",
       "      <th>iShares MSCI Israel Capped</th>\n",
       "      <th>iShares MSCI United Kingdom</th>\n",
       "      <th>ishares S&amp;P 500</th>\n",
       "      <th>iShares MSCI Ireland</th>\n",
       "      <th>iShares Currency Hedged MSCI Germany</th>\n",
       "      <th>iShares MSCI Mexico Capped</th>\n",
       "      <th>iShares MSCI World</th>\n",
       "    </tr>\n",
       "    <tr>\n",
       "      <th>date</th>\n",
       "      <th></th>\n",
       "      <th></th>\n",
       "      <th></th>\n",
       "      <th></th>\n",
       "      <th></th>\n",
       "      <th></th>\n",
       "      <th></th>\n",
       "      <th></th>\n",
       "      <th></th>\n",
       "      <th></th>\n",
       "      <th></th>\n",
       "      <th></th>\n",
       "      <th></th>\n",
       "      <th></th>\n",
       "      <th></th>\n",
       "      <th></th>\n",
       "      <th></th>\n",
       "    </tr>\n",
       "  </thead>\n",
       "  <tbody>\n",
       "    <tr>\n",
       "      <th>2015-02-01</th>\n",
       "      <td>0.051509</td>\n",
       "      <td>0.078402</td>\n",
       "      <td>0.037898</td>\n",
       "      <td>0.066694</td>\n",
       "      <td>0.049449</td>\n",
       "      <td>0.070284</td>\n",
       "      <td>0.062257</td>\n",
       "      <td>0.059758</td>\n",
       "      <td>0.122674</td>\n",
       "      <td>0.080292</td>\n",
       "      <td>0.032922</td>\n",
       "      <td>0.058758</td>\n",
       "      <td>0.056431</td>\n",
       "      <td>0.126511</td>\n",
       "      <td>0.070004</td>\n",
       "      <td>0.070400</td>\n",
       "      <td>0.066838</td>\n",
       "    </tr>\n",
       "    <tr>\n",
       "      <th>2015-03-01</th>\n",
       "      <td>-0.021739</td>\n",
       "      <td>0.028807</td>\n",
       "      <td>-0.058921</td>\n",
       "      <td>-0.012114</td>\n",
       "      <td>-0.003301</td>\n",
       "      <td>-0.035714</td>\n",
       "      <td>-0.021734</td>\n",
       "      <td>-0.029979</td>\n",
       "      <td>-0.031921</td>\n",
       "      <td>-0.034628</td>\n",
       "      <td>0.060809</td>\n",
       "      <td>-0.057068</td>\n",
       "      <td>-0.020621</td>\n",
       "      <td>-0.024607</td>\n",
       "      <td>0.043129</td>\n",
       "      <td>-0.037369</td>\n",
       "      <td>-0.014355</td>\n",
       "    </tr>\n",
       "    <tr>\n",
       "      <th>2015-04-01</th>\n",
       "      <td>-0.009481</td>\n",
       "      <td>0.050476</td>\n",
       "      <td>0.128748</td>\n",
       "      <td>0.032832</td>\n",
       "      <td>0.040048</td>\n",
       "      <td>0.016129</td>\n",
       "      <td>0.012232</td>\n",
       "      <td>0.071376</td>\n",
       "      <td>0.069753</td>\n",
       "      <td>0.020122</td>\n",
       "      <td>0.021150</td>\n",
       "      <td>0.066630</td>\n",
       "      <td>0.009684</td>\n",
       "      <td>0.053677</td>\n",
       "      <td>-0.051156</td>\n",
       "      <td>0.011387</td>\n",
       "      <td>0.017830</td>\n",
       "    </tr>\n",
       "    <tr>\n",
       "      <th>2015-05-01</th>\n",
       "      <td>0.010470</td>\n",
       "      <td>0.007616</td>\n",
       "      <td>-0.039453</td>\n",
       "      <td>0.017618</td>\n",
       "      <td>0.024899</td>\n",
       "      <td>-0.001764</td>\n",
       "      <td>-0.059926</td>\n",
       "      <td>-0.046016</td>\n",
       "      <td>-0.005928</td>\n",
       "      <td>-0.033448</td>\n",
       "      <td>-0.002129</td>\n",
       "      <td>0.006247</td>\n",
       "      <td>0.013027</td>\n",
       "      <td>0.007641</td>\n",
       "      <td>0.005908</td>\n",
       "      <td>-0.001876</td>\n",
       "      <td>0.004279</td>\n",
       "    </tr>\n",
       "    <tr>\n",
       "      <th>2015-06-01</th>\n",
       "      <td>-0.037892</td>\n",
       "      <td>-0.031852</td>\n",
       "      <td>-0.051647</td>\n",
       "      <td>-0.033120</td>\n",
       "      <td>-0.074859</td>\n",
       "      <td>-0.064488</td>\n",
       "      <td>-0.090241</td>\n",
       "      <td>-0.039957</td>\n",
       "      <td>-0.053667</td>\n",
       "      <td>-0.066992</td>\n",
       "      <td>-0.002328</td>\n",
       "      <td>-0.055872</td>\n",
       "      <td>-0.025201</td>\n",
       "      <td>-0.012133</td>\n",
       "      <td>-0.042217</td>\n",
       "      <td>-0.023928</td>\n",
       "      <td>-0.038615</td>\n",
       "    </tr>\n",
       "  </tbody>\n",
       "</table>\n",
       "</div>"
      ],
      "text/plain": [
       "            iShares MSCI Finland Capped  iShares MSCI Denmark Capped  \\\n",
       "date                                                                   \n",
       "2015-02-01                     0.051509                     0.078402   \n",
       "2015-03-01                    -0.021739                     0.028807   \n",
       "2015-04-01                    -0.009481                     0.050476   \n",
       "2015-05-01                     0.010470                     0.007616   \n",
       "2015-06-01                    -0.037892                    -0.031852   \n",
       "\n",
       "            iShares MSCI Norway Capped  iShares MSCI Netherlands  \\\n",
       "date                                                               \n",
       "2015-02-01                    0.037898                  0.066694   \n",
       "2015-03-01                   -0.058921                 -0.012114   \n",
       "2015-04-01                    0.128748                  0.032832   \n",
       "2015-05-01                   -0.039453                  0.017618   \n",
       "2015-06-01                   -0.051647                 -0.033120   \n",
       "\n",
       "            iShares MSCI Switzerland Capped  iShares MSCI Sweden Capped  \\\n",
       "date                                                                      \n",
       "2015-02-01                         0.049449                    0.070284   \n",
       "2015-03-01                        -0.003301                   -0.035714   \n",
       "2015-04-01                         0.040048                    0.016129   \n",
       "2015-05-01                         0.024899                   -0.001764   \n",
       "2015-06-01                        -0.074859                   -0.064488   \n",
       "\n",
       "            iShares MSCI New Zealand Capped  iShares MSCI Canada  \\\n",
       "date                                                               \n",
       "2015-02-01                         0.062257             0.059758   \n",
       "2015-03-01                        -0.021734            -0.029979   \n",
       "2015-04-01                         0.012232             0.071376   \n",
       "2015-05-01                        -0.059926            -0.046016   \n",
       "2015-06-01                        -0.090241            -0.039957   \n",
       "\n",
       "            iShares MSCI Austria Capped  iShares MSCI Australia  \\\n",
       "date                                                              \n",
       "2015-02-01                     0.122674                0.080292   \n",
       "2015-03-01                    -0.031921               -0.034628   \n",
       "2015-04-01                     0.069753                0.020122   \n",
       "2015-05-01                    -0.005928               -0.033448   \n",
       "2015-06-01                    -0.053667               -0.066992   \n",
       "\n",
       "            iShares MSCI Israel Capped  iShares MSCI United Kingdom  \\\n",
       "date                                                                  \n",
       "2015-02-01                    0.032922                     0.058758   \n",
       "2015-03-01                    0.060809                    -0.057068   \n",
       "2015-04-01                    0.021150                     0.066630   \n",
       "2015-05-01                   -0.002129                     0.006247   \n",
       "2015-06-01                   -0.002328                    -0.055872   \n",
       "\n",
       "            ishares S&P 500  iShares MSCI Ireland  \\\n",
       "date                                                \n",
       "2015-02-01         0.056431              0.126511   \n",
       "2015-03-01        -0.020621             -0.024607   \n",
       "2015-04-01         0.009684              0.053677   \n",
       "2015-05-01         0.013027              0.007641   \n",
       "2015-06-01        -0.025201             -0.012133   \n",
       "\n",
       "            iShares Currency Hedged MSCI Germany  iShares MSCI Mexico Capped  \\\n",
       "date                                                                           \n",
       "2015-02-01                              0.070004                    0.070400   \n",
       "2015-03-01                              0.043129                   -0.037369   \n",
       "2015-04-01                             -0.051156                    0.011387   \n",
       "2015-05-01                              0.005908                   -0.001876   \n",
       "2015-06-01                             -0.042217                   -0.023928   \n",
       "\n",
       "            iShares MSCI World  \n",
       "date                            \n",
       "2015-02-01            0.066838  \n",
       "2015-03-01           -0.014355  \n",
       "2015-04-01            0.017830  \n",
       "2015-05-01            0.004279  \n",
       "2015-06-01           -0.038615  "
      ]
     },
     "execution_count": 3,
     "metadata": {},
     "output_type": "execute_result"
    }
   ],
   "source": [
    "# Review dataframe\n",
    "\n",
    "all_etf_df.head()"
   ]
  },
  {
   "cell_type": "code",
   "execution_count": 40,
   "id": "59155082-15e4-45ad-9a48-c2622ccd2f3c",
   "metadata": {},
   "outputs": [],
   "source": [
    "# Read in country data from pkl file\n",
    "\n",
    "pkl_file = open('wh_2015_2019.pkl', 'rb')\n",
    "dataframe3 = pickle.load(pkl_file)\n",
    "pkl_file.close()\n",
    "\n",
    "# load etf data back into Dataframe\n",
    "wh_2015_2019_df = pd.DataFrame(dataframe3)\n",
    "\n",
    "# Drop Year Column\n",
    "wh_2015_2019_df = wh_2015_2019_df.drop(columns=['Year'])"
   ]
  },
  {
   "cell_type": "code",
   "execution_count": 41,
   "id": "697089da-f7ef-42bf-8fd8-44d37c9cdcde",
   "metadata": {},
   "outputs": [
    {
     "data": {
      "text/html": [
       "<div>\n",
       "<style scoped>\n",
       "    .dataframe tbody tr th:only-of-type {\n",
       "        vertical-align: middle;\n",
       "    }\n",
       "\n",
       "    .dataframe tbody tr th {\n",
       "        vertical-align: top;\n",
       "    }\n",
       "\n",
       "    .dataframe thead th {\n",
       "        text-align: right;\n",
       "    }\n",
       "</style>\n",
       "<table border=\"1\" class=\"dataframe\">\n",
       "  <thead>\n",
       "    <tr style=\"text-align: right;\">\n",
       "      <th>Country</th>\n",
       "      <th>Switzerland</th>\n",
       "      <th>Denmark</th>\n",
       "      <th>Norway</th>\n",
       "      <th>Canada</th>\n",
       "      <th>Finland</th>\n",
       "      <th>Netherlands</th>\n",
       "      <th>Sweden</th>\n",
       "      <th>New Zealand</th>\n",
       "      <th>Australia</th>\n",
       "      <th>Israel</th>\n",
       "      <th>Austria</th>\n",
       "      <th>Mexico</th>\n",
       "      <th>United States</th>\n",
       "      <th>Ireland</th>\n",
       "      <th>United Kingdom</th>\n",
       "      <th>Germany</th>\n",
       "    </tr>\n",
       "  </thead>\n",
       "  <tbody>\n",
       "    <tr>\n",
       "      <th>Happiness Score 2015</th>\n",
       "      <td>7.587</td>\n",
       "      <td>7.527</td>\n",
       "      <td>7.522</td>\n",
       "      <td>7.427</td>\n",
       "      <td>7.406</td>\n",
       "      <td>7.378</td>\n",
       "      <td>7.364</td>\n",
       "      <td>7.286</td>\n",
       "      <td>7.284</td>\n",
       "      <td>7.278</td>\n",
       "      <td>7.200</td>\n",
       "      <td>7.187</td>\n",
       "      <td>7.119</td>\n",
       "      <td>NaN</td>\n",
       "      <td>NaN</td>\n",
       "      <td>NaN</td>\n",
       "    </tr>\n",
       "    <tr>\n",
       "      <th>Happiness Score 2016</th>\n",
       "      <td>7.509</td>\n",
       "      <td>7.526</td>\n",
       "      <td>7.498</td>\n",
       "      <td>7.404</td>\n",
       "      <td>7.413</td>\n",
       "      <td>7.339</td>\n",
       "      <td>7.291</td>\n",
       "      <td>7.334</td>\n",
       "      <td>7.313</td>\n",
       "      <td>7.267</td>\n",
       "      <td>7.119</td>\n",
       "      <td>NaN</td>\n",
       "      <td>7.104</td>\n",
       "      <td>NaN</td>\n",
       "      <td>NaN</td>\n",
       "      <td>NaN</td>\n",
       "    </tr>\n",
       "    <tr>\n",
       "      <th>Happiness Score 2017</th>\n",
       "      <td>7.494</td>\n",
       "      <td>7.522</td>\n",
       "      <td>7.537</td>\n",
       "      <td>7.316</td>\n",
       "      <td>7.469</td>\n",
       "      <td>7.377</td>\n",
       "      <td>7.284</td>\n",
       "      <td>7.314</td>\n",
       "      <td>7.284</td>\n",
       "      <td>7.213</td>\n",
       "      <td>7.006</td>\n",
       "      <td>NaN</td>\n",
       "      <td>6.993</td>\n",
       "      <td>6.977</td>\n",
       "      <td>NaN</td>\n",
       "      <td>NaN</td>\n",
       "    </tr>\n",
       "    <tr>\n",
       "      <th>Happiness Score 2018</th>\n",
       "      <td>7.487</td>\n",
       "      <td>7.555</td>\n",
       "      <td>7.594</td>\n",
       "      <td>7.328</td>\n",
       "      <td>7.632</td>\n",
       "      <td>7.441</td>\n",
       "      <td>7.314</td>\n",
       "      <td>7.324</td>\n",
       "      <td>7.272</td>\n",
       "      <td>NaN</td>\n",
       "      <td>7.139</td>\n",
       "      <td>NaN</td>\n",
       "      <td>NaN</td>\n",
       "      <td>6.977</td>\n",
       "      <td>7.190</td>\n",
       "      <td>6.965</td>\n",
       "    </tr>\n",
       "    <tr>\n",
       "      <th>Happiness Score 2019</th>\n",
       "      <td>7.480</td>\n",
       "      <td>7.600</td>\n",
       "      <td>7.554</td>\n",
       "      <td>7.278</td>\n",
       "      <td>7.769</td>\n",
       "      <td>7.488</td>\n",
       "      <td>7.343</td>\n",
       "      <td>7.307</td>\n",
       "      <td>7.228</td>\n",
       "      <td>7.139</td>\n",
       "      <td>7.246</td>\n",
       "      <td>NaN</td>\n",
       "      <td>NaN</td>\n",
       "      <td>NaN</td>\n",
       "      <td>7.054</td>\n",
       "      <td>NaN</td>\n",
       "    </tr>\n",
       "  </tbody>\n",
       "</table>\n",
       "</div>"
      ],
      "text/plain": [
       "Country               Switzerland  Denmark  Norway  Canada  Finland  \\\n",
       "Happiness Score 2015        7.587    7.527   7.522   7.427    7.406   \n",
       "Happiness Score 2016        7.509    7.526   7.498   7.404    7.413   \n",
       "Happiness Score 2017        7.494    7.522   7.537   7.316    7.469   \n",
       "Happiness Score 2018        7.487    7.555   7.594   7.328    7.632   \n",
       "Happiness Score 2019        7.480    7.600   7.554   7.278    7.769   \n",
       "\n",
       "Country               Netherlands  Sweden  New Zealand  Australia  Israel  \\\n",
       "Happiness Score 2015        7.378   7.364        7.286      7.284   7.278   \n",
       "Happiness Score 2016        7.339   7.291        7.334      7.313   7.267   \n",
       "Happiness Score 2017        7.377   7.284        7.314      7.284   7.213   \n",
       "Happiness Score 2018        7.441   7.314        7.324      7.272     NaN   \n",
       "Happiness Score 2019        7.488   7.343        7.307      7.228   7.139   \n",
       "\n",
       "Country               Austria  Mexico  United States  Ireland  United Kingdom  \\\n",
       "Happiness Score 2015    7.200   7.187          7.119      NaN             NaN   \n",
       "Happiness Score 2016    7.119     NaN          7.104      NaN             NaN   \n",
       "Happiness Score 2017    7.006     NaN          6.993    6.977             NaN   \n",
       "Happiness Score 2018    7.139     NaN            NaN    6.977           7.190   \n",
       "Happiness Score 2019    7.246     NaN            NaN      NaN           7.054   \n",
       "\n",
       "Country               Germany  \n",
       "Happiness Score 2015      NaN  \n",
       "Happiness Score 2016      NaN  \n",
       "Happiness Score 2017      NaN  \n",
       "Happiness Score 2018    6.965  \n",
       "Happiness Score 2019      NaN  "
      ]
     },
     "execution_count": 41,
     "metadata": {},
     "output_type": "execute_result"
    }
   ],
   "source": [
    "# Review Dataframe \n",
    "\n",
    "wh_2015_2019_df"
   ]
  },
  {
   "cell_type": "code",
   "execution_count": 6,
   "id": "9da54ae4-1b35-43e9-b7c8-ecedf4ffcdcf",
   "metadata": {},
   "outputs": [
    {
     "data": {
      "text/html": [
       "<div>\n",
       "<style scoped>\n",
       "    .dataframe tbody tr th:only-of-type {\n",
       "        vertical-align: middle;\n",
       "    }\n",
       "\n",
       "    .dataframe tbody tr th {\n",
       "        vertical-align: top;\n",
       "    }\n",
       "\n",
       "    .dataframe thead th {\n",
       "        text-align: right;\n",
       "    }\n",
       "</style>\n",
       "<table border=\"1\" class=\"dataframe\">\n",
       "  <thead>\n",
       "    <tr style=\"text-align: right;\">\n",
       "      <th></th>\n",
       "      <th>Happiness Score 2015</th>\n",
       "      <th>Happiness Score 2016</th>\n",
       "      <th>Happiness Score 2017</th>\n",
       "      <th>Happiness Score 2018</th>\n",
       "      <th>Happiness Score 2019</th>\n",
       "    </tr>\n",
       "    <tr>\n",
       "      <th>Country</th>\n",
       "      <th></th>\n",
       "      <th></th>\n",
       "      <th></th>\n",
       "      <th></th>\n",
       "      <th></th>\n",
       "    </tr>\n",
       "  </thead>\n",
       "  <tbody>\n",
       "    <tr>\n",
       "      <th>Switzerland</th>\n",
       "      <td>7.587</td>\n",
       "      <td>7.509</td>\n",
       "      <td>7.494</td>\n",
       "      <td>7.487</td>\n",
       "      <td>7.480</td>\n",
       "    </tr>\n",
       "    <tr>\n",
       "      <th>Denmark</th>\n",
       "      <td>7.527</td>\n",
       "      <td>7.526</td>\n",
       "      <td>7.522</td>\n",
       "      <td>7.555</td>\n",
       "      <td>7.600</td>\n",
       "    </tr>\n",
       "    <tr>\n",
       "      <th>Norway</th>\n",
       "      <td>7.522</td>\n",
       "      <td>7.498</td>\n",
       "      <td>7.537</td>\n",
       "      <td>7.594</td>\n",
       "      <td>7.554</td>\n",
       "    </tr>\n",
       "    <tr>\n",
       "      <th>Canada</th>\n",
       "      <td>7.427</td>\n",
       "      <td>7.404</td>\n",
       "      <td>7.316</td>\n",
       "      <td>7.328</td>\n",
       "      <td>7.278</td>\n",
       "    </tr>\n",
       "    <tr>\n",
       "      <th>Finland</th>\n",
       "      <td>7.406</td>\n",
       "      <td>7.413</td>\n",
       "      <td>7.469</td>\n",
       "      <td>7.632</td>\n",
       "      <td>7.769</td>\n",
       "    </tr>\n",
       "    <tr>\n",
       "      <th>Netherlands</th>\n",
       "      <td>7.378</td>\n",
       "      <td>7.339</td>\n",
       "      <td>7.377</td>\n",
       "      <td>7.441</td>\n",
       "      <td>7.488</td>\n",
       "    </tr>\n",
       "    <tr>\n",
       "      <th>Sweden</th>\n",
       "      <td>7.364</td>\n",
       "      <td>7.291</td>\n",
       "      <td>7.284</td>\n",
       "      <td>7.314</td>\n",
       "      <td>7.343</td>\n",
       "    </tr>\n",
       "    <tr>\n",
       "      <th>New Zealand</th>\n",
       "      <td>7.286</td>\n",
       "      <td>7.334</td>\n",
       "      <td>7.314</td>\n",
       "      <td>7.324</td>\n",
       "      <td>7.307</td>\n",
       "    </tr>\n",
       "    <tr>\n",
       "      <th>Australia</th>\n",
       "      <td>7.284</td>\n",
       "      <td>7.313</td>\n",
       "      <td>7.284</td>\n",
       "      <td>7.272</td>\n",
       "      <td>7.228</td>\n",
       "    </tr>\n",
       "    <tr>\n",
       "      <th>Israel</th>\n",
       "      <td>7.278</td>\n",
       "      <td>7.267</td>\n",
       "      <td>7.213</td>\n",
       "      <td>NaN</td>\n",
       "      <td>7.139</td>\n",
       "    </tr>\n",
       "    <tr>\n",
       "      <th>Austria</th>\n",
       "      <td>7.200</td>\n",
       "      <td>7.119</td>\n",
       "      <td>7.006</td>\n",
       "      <td>7.139</td>\n",
       "      <td>7.246</td>\n",
       "    </tr>\n",
       "    <tr>\n",
       "      <th>Mexico</th>\n",
       "      <td>7.187</td>\n",
       "      <td>NaN</td>\n",
       "      <td>NaN</td>\n",
       "      <td>NaN</td>\n",
       "      <td>NaN</td>\n",
       "    </tr>\n",
       "    <tr>\n",
       "      <th>United States</th>\n",
       "      <td>7.119</td>\n",
       "      <td>7.104</td>\n",
       "      <td>6.993</td>\n",
       "      <td>NaN</td>\n",
       "      <td>NaN</td>\n",
       "    </tr>\n",
       "    <tr>\n",
       "      <th>Ireland</th>\n",
       "      <td>NaN</td>\n",
       "      <td>NaN</td>\n",
       "      <td>6.977</td>\n",
       "      <td>6.977</td>\n",
       "      <td>NaN</td>\n",
       "    </tr>\n",
       "    <tr>\n",
       "      <th>United Kingdom</th>\n",
       "      <td>NaN</td>\n",
       "      <td>NaN</td>\n",
       "      <td>NaN</td>\n",
       "      <td>7.190</td>\n",
       "      <td>7.054</td>\n",
       "    </tr>\n",
       "    <tr>\n",
       "      <th>Germany</th>\n",
       "      <td>NaN</td>\n",
       "      <td>NaN</td>\n",
       "      <td>NaN</td>\n",
       "      <td>6.965</td>\n",
       "      <td>NaN</td>\n",
       "    </tr>\n",
       "  </tbody>\n",
       "</table>\n",
       "</div>"
      ],
      "text/plain": [
       "                Happiness Score 2015  Happiness Score 2016  \\\n",
       "Country                                                      \n",
       "Switzerland                    7.587                 7.509   \n",
       "Denmark                        7.527                 7.526   \n",
       "Norway                         7.522                 7.498   \n",
       "Canada                         7.427                 7.404   \n",
       "Finland                        7.406                 7.413   \n",
       "Netherlands                    7.378                 7.339   \n",
       "Sweden                         7.364                 7.291   \n",
       "New Zealand                    7.286                 7.334   \n",
       "Australia                      7.284                 7.313   \n",
       "Israel                         7.278                 7.267   \n",
       "Austria                        7.200                 7.119   \n",
       "Mexico                         7.187                   NaN   \n",
       "United States                  7.119                 7.104   \n",
       "Ireland                          NaN                   NaN   \n",
       "United Kingdom                   NaN                   NaN   \n",
       "Germany                          NaN                   NaN   \n",
       "\n",
       "                Happiness Score 2017  Happiness Score 2018  \\\n",
       "Country                                                      \n",
       "Switzerland                    7.494                 7.487   \n",
       "Denmark                        7.522                 7.555   \n",
       "Norway                         7.537                 7.594   \n",
       "Canada                         7.316                 7.328   \n",
       "Finland                        7.469                 7.632   \n",
       "Netherlands                    7.377                 7.441   \n",
       "Sweden                         7.284                 7.314   \n",
       "New Zealand                    7.314                 7.324   \n",
       "Australia                      7.284                 7.272   \n",
       "Israel                         7.213                   NaN   \n",
       "Austria                        7.006                 7.139   \n",
       "Mexico                           NaN                   NaN   \n",
       "United States                  6.993                   NaN   \n",
       "Ireland                        6.977                 6.977   \n",
       "United Kingdom                   NaN                 7.190   \n",
       "Germany                          NaN                 6.965   \n",
       "\n",
       "                Happiness Score 2019  \n",
       "Country                               \n",
       "Switzerland                    7.480  \n",
       "Denmark                        7.600  \n",
       "Norway                         7.554  \n",
       "Canada                         7.278  \n",
       "Finland                        7.769  \n",
       "Netherlands                    7.488  \n",
       "Sweden                         7.343  \n",
       "New Zealand                    7.307  \n",
       "Australia                      7.228  \n",
       "Israel                         7.139  \n",
       "Austria                        7.246  \n",
       "Mexico                           NaN  \n",
       "United States                    NaN  \n",
       "Ireland                          NaN  \n",
       "United Kingdom                 7.054  \n",
       "Germany                          NaN  "
      ]
     },
     "execution_count": 6,
     "metadata": {},
     "output_type": "execute_result"
    }
   ],
   "source": [
    "# Transpose dataframe to allow mapping to ETFs by Country\n",
    "\n",
    "wh_2015_2019_df = wh_2015_2019_df.transpose()\n",
    "wh_2015_2019_df = wh_2015_2019_df.drop(['Year'])\n",
    "wh_2015_2019_df\n"
   ]
  },
  {
   "cell_type": "markdown",
   "id": "7745740d-dc6c-4b2a-ad41-979646b92c29",
   "metadata": {},
   "source": [
    "## Portfolio Mapping"
   ]
  },
  {
   "cell_type": "code",
   "execution_count": 7,
   "id": "8800e84c-4e09-442e-a4f3-a54b1417e654",
   "metadata": {},
   "outputs": [
    {
     "data": {
      "text/html": [
       "<div>\n",
       "<style scoped>\n",
       "    .dataframe tbody tr th:only-of-type {\n",
       "        vertical-align: middle;\n",
       "    }\n",
       "\n",
       "    .dataframe tbody tr th {\n",
       "        vertical-align: top;\n",
       "    }\n",
       "\n",
       "    .dataframe thead th {\n",
       "        text-align: right;\n",
       "    }\n",
       "</style>\n",
       "<table border=\"1\" class=\"dataframe\">\n",
       "  <thead>\n",
       "    <tr style=\"text-align: right;\">\n",
       "      <th></th>\n",
       "      <th>ETF</th>\n",
       "    </tr>\n",
       "    <tr>\n",
       "      <th>Country</th>\n",
       "      <th></th>\n",
       "    </tr>\n",
       "  </thead>\n",
       "  <tbody>\n",
       "    <tr>\n",
       "      <th>Finland</th>\n",
       "      <td>iShares MSCI Finland Capped</td>\n",
       "    </tr>\n",
       "    <tr>\n",
       "      <th>Denmark</th>\n",
       "      <td>iShares MSCI Denmark Capped</td>\n",
       "    </tr>\n",
       "    <tr>\n",
       "      <th>Norway</th>\n",
       "      <td>iShares MSCI Norway Capped</td>\n",
       "    </tr>\n",
       "    <tr>\n",
       "      <th>Netherlands</th>\n",
       "      <td>iShares MSCI Netherlands</td>\n",
       "    </tr>\n",
       "    <tr>\n",
       "      <th>Switzerland</th>\n",
       "      <td>iShares MSCI Switzerland Capped</td>\n",
       "    </tr>\n",
       "    <tr>\n",
       "      <th>Sweden</th>\n",
       "      <td>iShares MSCI Sweden Capped</td>\n",
       "    </tr>\n",
       "    <tr>\n",
       "      <th>New Zealand</th>\n",
       "      <td>iShares MSCI New Zealand Capped</td>\n",
       "    </tr>\n",
       "    <tr>\n",
       "      <th>Canada</th>\n",
       "      <td>iShares MSCI Canada</td>\n",
       "    </tr>\n",
       "    <tr>\n",
       "      <th>Austria</th>\n",
       "      <td>iShares MSCI Austria Capped</td>\n",
       "    </tr>\n",
       "    <tr>\n",
       "      <th>Australia</th>\n",
       "      <td>iShares MSCI Australia</td>\n",
       "    </tr>\n",
       "    <tr>\n",
       "      <th>Israel</th>\n",
       "      <td>iShares MSCI Israel Capped</td>\n",
       "    </tr>\n",
       "    <tr>\n",
       "      <th>United Kingdom</th>\n",
       "      <td>iShares MSCI United Kingdom</td>\n",
       "    </tr>\n",
       "    <tr>\n",
       "      <th>United States</th>\n",
       "      <td>ishares S&amp;P 500</td>\n",
       "    </tr>\n",
       "    <tr>\n",
       "      <th>Ireland</th>\n",
       "      <td>iShares MSCI Ireland</td>\n",
       "    </tr>\n",
       "    <tr>\n",
       "      <th>Germany</th>\n",
       "      <td>iShares Currency Hedged MSCI Germany</td>\n",
       "    </tr>\n",
       "    <tr>\n",
       "      <th>Mexico</th>\n",
       "      <td>iShares MSCI Mexico Capped</td>\n",
       "    </tr>\n",
       "    <tr>\n",
       "      <th>Benchmark</th>\n",
       "      <td>iShares MSCI World</td>\n",
       "    </tr>\n",
       "  </tbody>\n",
       "</table>\n",
       "</div>"
      ],
      "text/plain": [
       "                                                 ETF\n",
       "Country                                             \n",
       "Finland                  iShares MSCI Finland Capped\n",
       "Denmark                  iShares MSCI Denmark Capped\n",
       "Norway                    iShares MSCI Norway Capped\n",
       "Netherlands                 iShares MSCI Netherlands\n",
       "Switzerland          iShares MSCI Switzerland Capped\n",
       "Sweden                    iShares MSCI Sweden Capped\n",
       "New Zealand          iShares MSCI New Zealand Capped\n",
       "Canada                           iShares MSCI Canada\n",
       "Austria                  iShares MSCI Austria Capped\n",
       "Australia                     iShares MSCI Australia\n",
       "Israel                    iShares MSCI Israel Capped\n",
       "United Kingdom           iShares MSCI United Kingdom\n",
       "United States                        ishares S&P 500\n",
       "Ireland                         iShares MSCI Ireland\n",
       "Germany         iShares Currency Hedged MSCI Germany\n",
       "Mexico                    iShares MSCI Mexico Capped\n",
       "Benchmark                         iShares MSCI World"
      ]
     },
     "execution_count": 7,
     "metadata": {},
     "output_type": "execute_result"
    }
   ],
   "source": [
    "# Create Map of ETFs to Countries\n",
    "\n",
    "etf_country_map = {\n",
    "    \"Finland\":\"iShares MSCI Finland Capped\",\n",
    "    \"Denmark\":\"iShares MSCI Denmark Capped\",\n",
    "    \"Norway\":\"iShares MSCI Norway Capped\",\n",
    "    \"Netherlands\":\"iShares MSCI Netherlands\",\n",
    "    \"Switzerland\":\"iShares MSCI Switzerland Capped\",\n",
    "    \"Sweden\":\"iShares MSCI Sweden Capped\",\n",
    "    \"New Zealand\":\"iShares MSCI New Zealand Capped\",\n",
    "    \"Canada\":\"iShares MSCI Canada\",\n",
    "    \"Austria\":\"iShares MSCI Austria Capped\",\n",
    "    \"Australia\":\"iShares MSCI Australia\",\n",
    "    \"Israel\":\"iShares MSCI Israel Capped\",\n",
    "    \"United Kingdom\":\"iShares MSCI United Kingdom\",\n",
    "    \"United States\":\"ishares S&P 500\",\n",
    "    \"Ireland\":\"iShares MSCI Ireland\",\n",
    "    \"Germany\":\"iShares Currency Hedged MSCI Germany\",\n",
    "    \"Mexico\":\"iShares MSCI Mexico Capped\",\n",
    "    \"Benchmark\":\"iShares MSCI World\"\n",
    "}\n",
    "\n",
    "# Create DataFrame of Countries and Corresponding ETFs\n",
    "\n",
    "etf_country_map_df = pd.DataFrame.from_dict(etf_country_map, orient='index')\n",
    "etf_country_map_df.columns = [\"ETF\"]\n",
    "etf_country_map_df.index.name = \"Country\"\n",
    "etf_country_map_df"
   ]
  },
  {
   "cell_type": "code",
   "execution_count": 8,
   "id": "be02e65c-3d70-4a0e-a02e-21fcc28fea61",
   "metadata": {},
   "outputs": [
    {
     "data": {
      "text/html": [
       "<div>\n",
       "<style scoped>\n",
       "    .dataframe tbody tr th:only-of-type {\n",
       "        vertical-align: middle;\n",
       "    }\n",
       "\n",
       "    .dataframe tbody tr th {\n",
       "        vertical-align: top;\n",
       "    }\n",
       "\n",
       "    .dataframe thead th {\n",
       "        text-align: right;\n",
       "    }\n",
       "</style>\n",
       "<table border=\"1\" class=\"dataframe\">\n",
       "  <thead>\n",
       "    <tr style=\"text-align: right;\">\n",
       "      <th></th>\n",
       "      <th>2015</th>\n",
       "      <th>2016</th>\n",
       "      <th>2017</th>\n",
       "      <th>2018</th>\n",
       "      <th>2019</th>\n",
       "    </tr>\n",
       "    <tr>\n",
       "      <th>ETF</th>\n",
       "      <th></th>\n",
       "      <th></th>\n",
       "      <th></th>\n",
       "      <th></th>\n",
       "      <th></th>\n",
       "    </tr>\n",
       "  </thead>\n",
       "  <tbody>\n",
       "    <tr>\n",
       "      <th>iShares MSCI Finland Capped</th>\n",
       "      <td>7.406</td>\n",
       "      <td>7.413</td>\n",
       "      <td>7.469</td>\n",
       "      <td>7.632</td>\n",
       "      <td>7.769</td>\n",
       "    </tr>\n",
       "    <tr>\n",
       "      <th>iShares MSCI Denmark Capped</th>\n",
       "      <td>7.527</td>\n",
       "      <td>7.526</td>\n",
       "      <td>7.522</td>\n",
       "      <td>7.555</td>\n",
       "      <td>7.600</td>\n",
       "    </tr>\n",
       "    <tr>\n",
       "      <th>iShares MSCI Norway Capped</th>\n",
       "      <td>7.522</td>\n",
       "      <td>7.498</td>\n",
       "      <td>7.537</td>\n",
       "      <td>7.594</td>\n",
       "      <td>7.554</td>\n",
       "    </tr>\n",
       "    <tr>\n",
       "      <th>iShares MSCI Netherlands</th>\n",
       "      <td>7.378</td>\n",
       "      <td>7.339</td>\n",
       "      <td>7.377</td>\n",
       "      <td>7.441</td>\n",
       "      <td>7.488</td>\n",
       "    </tr>\n",
       "    <tr>\n",
       "      <th>iShares MSCI Switzerland Capped</th>\n",
       "      <td>7.587</td>\n",
       "      <td>7.509</td>\n",
       "      <td>7.494</td>\n",
       "      <td>7.487</td>\n",
       "      <td>7.480</td>\n",
       "    </tr>\n",
       "    <tr>\n",
       "      <th>iShares MSCI Sweden Capped</th>\n",
       "      <td>7.364</td>\n",
       "      <td>7.291</td>\n",
       "      <td>7.284</td>\n",
       "      <td>7.314</td>\n",
       "      <td>7.343</td>\n",
       "    </tr>\n",
       "    <tr>\n",
       "      <th>iShares MSCI New Zealand Capped</th>\n",
       "      <td>7.286</td>\n",
       "      <td>7.334</td>\n",
       "      <td>7.314</td>\n",
       "      <td>7.324</td>\n",
       "      <td>7.307</td>\n",
       "    </tr>\n",
       "    <tr>\n",
       "      <th>iShares MSCI Canada</th>\n",
       "      <td>7.427</td>\n",
       "      <td>7.404</td>\n",
       "      <td>7.316</td>\n",
       "      <td>7.328</td>\n",
       "      <td>7.278</td>\n",
       "    </tr>\n",
       "    <tr>\n",
       "      <th>iShares MSCI Austria Capped</th>\n",
       "      <td>7.200</td>\n",
       "      <td>7.119</td>\n",
       "      <td>7.006</td>\n",
       "      <td>7.139</td>\n",
       "      <td>7.246</td>\n",
       "    </tr>\n",
       "    <tr>\n",
       "      <th>iShares MSCI Australia</th>\n",
       "      <td>7.284</td>\n",
       "      <td>7.313</td>\n",
       "      <td>7.284</td>\n",
       "      <td>7.272</td>\n",
       "      <td>7.228</td>\n",
       "    </tr>\n",
       "    <tr>\n",
       "      <th>iShares MSCI Israel Capped</th>\n",
       "      <td>7.278</td>\n",
       "      <td>7.267</td>\n",
       "      <td>7.213</td>\n",
       "      <td>NaN</td>\n",
       "      <td>7.139</td>\n",
       "    </tr>\n",
       "    <tr>\n",
       "      <th>iShares MSCI United Kingdom</th>\n",
       "      <td>NaN</td>\n",
       "      <td>NaN</td>\n",
       "      <td>NaN</td>\n",
       "      <td>7.190</td>\n",
       "      <td>7.054</td>\n",
       "    </tr>\n",
       "    <tr>\n",
       "      <th>ishares S&amp;P 500</th>\n",
       "      <td>7.119</td>\n",
       "      <td>7.104</td>\n",
       "      <td>6.993</td>\n",
       "      <td>NaN</td>\n",
       "      <td>NaN</td>\n",
       "    </tr>\n",
       "    <tr>\n",
       "      <th>iShares MSCI Ireland</th>\n",
       "      <td>NaN</td>\n",
       "      <td>NaN</td>\n",
       "      <td>6.977</td>\n",
       "      <td>6.977</td>\n",
       "      <td>NaN</td>\n",
       "    </tr>\n",
       "    <tr>\n",
       "      <th>iShares Currency Hedged MSCI Germany</th>\n",
       "      <td>NaN</td>\n",
       "      <td>NaN</td>\n",
       "      <td>NaN</td>\n",
       "      <td>6.965</td>\n",
       "      <td>NaN</td>\n",
       "    </tr>\n",
       "    <tr>\n",
       "      <th>iShares MSCI Mexico Capped</th>\n",
       "      <td>7.187</td>\n",
       "      <td>NaN</td>\n",
       "      <td>NaN</td>\n",
       "      <td>NaN</td>\n",
       "      <td>NaN</td>\n",
       "    </tr>\n",
       "    <tr>\n",
       "      <th>iShares MSCI World</th>\n",
       "      <td>NaN</td>\n",
       "      <td>NaN</td>\n",
       "      <td>NaN</td>\n",
       "      <td>NaN</td>\n",
       "      <td>NaN</td>\n",
       "    </tr>\n",
       "  </tbody>\n",
       "</table>\n",
       "</div>"
      ],
      "text/plain": [
       "                                       2015   2016   2017   2018   2019\n",
       "ETF                                                                    \n",
       "iShares MSCI Finland Capped           7.406  7.413  7.469  7.632  7.769\n",
       "iShares MSCI Denmark Capped           7.527  7.526  7.522  7.555  7.600\n",
       "iShares MSCI Norway Capped            7.522  7.498  7.537  7.594  7.554\n",
       "iShares MSCI Netherlands              7.378  7.339  7.377  7.441  7.488\n",
       "iShares MSCI Switzerland Capped       7.587  7.509  7.494  7.487  7.480\n",
       "iShares MSCI Sweden Capped            7.364  7.291  7.284  7.314  7.343\n",
       "iShares MSCI New Zealand Capped       7.286  7.334  7.314  7.324  7.307\n",
       "iShares MSCI Canada                   7.427  7.404  7.316  7.328  7.278\n",
       "iShares MSCI Austria Capped           7.200  7.119  7.006  7.139  7.246\n",
       "iShares MSCI Australia                7.284  7.313  7.284  7.272  7.228\n",
       "iShares MSCI Israel Capped            7.278  7.267  7.213    NaN  7.139\n",
       "iShares MSCI United Kingdom             NaN    NaN    NaN  7.190  7.054\n",
       "ishares S&P 500                       7.119  7.104  6.993    NaN    NaN\n",
       "iShares MSCI Ireland                    NaN    NaN  6.977  6.977    NaN\n",
       "iShares Currency Hedged MSCI Germany    NaN    NaN    NaN  6.965    NaN\n",
       "iShares MSCI Mexico Capped            7.187    NaN    NaN    NaN    NaN\n",
       "iShares MSCI World                      NaN    NaN    NaN    NaN    NaN"
      ]
     },
     "execution_count": 8,
     "metadata": {},
     "output_type": "execute_result"
    }
   ],
   "source": [
    "# Combine Dataframes to show Happiness Score by ETF (for Portfolio Weights)\n",
    "\n",
    "country_etf_combined = pd.merge(etf_country_map_df, wh_2015_2019_df,on='Country', how='outer')\n",
    "\n",
    "country_etf_combined.set_index('ETF', inplace=True, drop=True)\n",
    "columns = [2015,2016,2017,2018,2019]\n",
    "country_etf_combined.columns = columns\n",
    "\n",
    "country_etf_combined\n"
   ]
  },
  {
   "cell_type": "markdown",
   "id": "71847e07-c67f-41b5-9205-028b7f0e035b",
   "metadata": {},
   "source": [
    "# Portfolio Weightings"
   ]
  },
  {
   "cell_type": "code",
   "execution_count": 9,
   "id": "c543e46b-c189-4838-bcd2-228fa277fb38",
   "metadata": {},
   "outputs": [
    {
     "data": {
      "text/html": [
       "<div>\n",
       "<style scoped>\n",
       "    .dataframe tbody tr th:only-of-type {\n",
       "        vertical-align: middle;\n",
       "    }\n",
       "\n",
       "    .dataframe tbody tr th {\n",
       "        vertical-align: top;\n",
       "    }\n",
       "\n",
       "    .dataframe thead th {\n",
       "        text-align: right;\n",
       "    }\n",
       "</style>\n",
       "<table border=\"1\" class=\"dataframe\">\n",
       "  <thead>\n",
       "    <tr style=\"text-align: right;\">\n",
       "      <th></th>\n",
       "      <th>2015</th>\n",
       "      <th>2016</th>\n",
       "      <th>2017</th>\n",
       "      <th>2018</th>\n",
       "      <th>2019</th>\n",
       "    </tr>\n",
       "    <tr>\n",
       "      <th>ETF</th>\n",
       "      <th></th>\n",
       "      <th></th>\n",
       "      <th></th>\n",
       "      <th></th>\n",
       "      <th></th>\n",
       "    </tr>\n",
       "  </thead>\n",
       "  <tbody>\n",
       "    <tr>\n",
       "      <th>iShares MSCI Finland Capped</th>\n",
       "      <td>7.749699</td>\n",
       "      <td>8.412679</td>\n",
       "      <td>7.879856</td>\n",
       "      <td>8.015291</td>\n",
       "      <td>8.779920</td>\n",
       "    </tr>\n",
       "    <tr>\n",
       "      <th>iShares MSCI Denmark Capped</th>\n",
       "      <td>7.876315</td>\n",
       "      <td>8.540917</td>\n",
       "      <td>7.935771</td>\n",
       "      <td>7.934424</td>\n",
       "      <td>8.588929</td>\n",
       "    </tr>\n",
       "    <tr>\n",
       "      <th>iShares MSCI Norway Capped</th>\n",
       "      <td>7.871083</td>\n",
       "      <td>8.509141</td>\n",
       "      <td>7.951596</td>\n",
       "      <td>7.975383</td>\n",
       "      <td>8.536944</td>\n",
       "    </tr>\n",
       "    <tr>\n",
       "      <th>iShares MSCI Netherlands</th>\n",
       "      <td>7.720400</td>\n",
       "      <td>8.328699</td>\n",
       "      <td>7.782795</td>\n",
       "      <td>7.814699</td>\n",
       "      <td>8.462356</td>\n",
       "    </tr>\n",
       "    <tr>\n",
       "      <th>iShares MSCI Switzerland Capped</th>\n",
       "      <td>7.939099</td>\n",
       "      <td>8.521625</td>\n",
       "      <td>7.906231</td>\n",
       "      <td>7.863009</td>\n",
       "      <td>8.453315</td>\n",
       "    </tr>\n",
       "    <tr>\n",
       "      <th>iShares MSCI Sweden Capped</th>\n",
       "      <td>7.705750</td>\n",
       "      <td>8.274226</td>\n",
       "      <td>7.684679</td>\n",
       "      <td>7.681321</td>\n",
       "      <td>8.298488</td>\n",
       "    </tr>\n",
       "    <tr>\n",
       "      <th>iShares MSCI New Zealand Capped</th>\n",
       "      <td>7.624130</td>\n",
       "      <td>8.323025</td>\n",
       "      <td>7.716330</td>\n",
       "      <td>7.691823</td>\n",
       "      <td>8.257803</td>\n",
       "    </tr>\n",
       "    <tr>\n",
       "      <th>iShares MSCI Canada</th>\n",
       "      <td>7.771674</td>\n",
       "      <td>8.402465</td>\n",
       "      <td>7.718439</td>\n",
       "      <td>7.696024</td>\n",
       "      <td>8.225030</td>\n",
       "    </tr>\n",
       "    <tr>\n",
       "      <th>iShares MSCI Austria Capped</th>\n",
       "      <td>7.534139</td>\n",
       "      <td>8.079031</td>\n",
       "      <td>7.391387</td>\n",
       "      <td>7.497532</td>\n",
       "      <td>8.188866</td>\n",
       "    </tr>\n",
       "    <tr>\n",
       "      <th>iShares MSCI Australia</th>\n",
       "      <td>7.622037</td>\n",
       "      <td>8.299193</td>\n",
       "      <td>7.684679</td>\n",
       "      <td>7.637211</td>\n",
       "      <td>8.168524</td>\n",
       "    </tr>\n",
       "    <tr>\n",
       "      <th>iShares MSCI Israel Capped</th>\n",
       "      <td>7.615759</td>\n",
       "      <td>8.246990</td>\n",
       "      <td>7.609773</td>\n",
       "      <td>NaN</td>\n",
       "      <td>8.067943</td>\n",
       "    </tr>\n",
       "    <tr>\n",
       "      <th>iShares MSCI United Kingdom</th>\n",
       "      <td>NaN</td>\n",
       "      <td>NaN</td>\n",
       "      <td>NaN</td>\n",
       "      <td>7.551093</td>\n",
       "      <td>7.971883</td>\n",
       "    </tr>\n",
       "    <tr>\n",
       "      <th>ishares S&amp;P 500</th>\n",
       "      <td>7.449380</td>\n",
       "      <td>8.062008</td>\n",
       "      <td>7.377672</td>\n",
       "      <td>NaN</td>\n",
       "      <td>NaN</td>\n",
       "    </tr>\n",
       "    <tr>\n",
       "      <th>iShares MSCI Ireland</th>\n",
       "      <td>NaN</td>\n",
       "      <td>NaN</td>\n",
       "      <td>7.360792</td>\n",
       "      <td>7.327396</td>\n",
       "      <td>NaN</td>\n",
       "    </tr>\n",
       "    <tr>\n",
       "      <th>iShares Currency Hedged MSCI Germany</th>\n",
       "      <td>NaN</td>\n",
       "      <td>NaN</td>\n",
       "      <td>NaN</td>\n",
       "      <td>7.314793</td>\n",
       "      <td>NaN</td>\n",
       "    </tr>\n",
       "    <tr>\n",
       "      <th>iShares MSCI Mexico Capped</th>\n",
       "      <td>7.520536</td>\n",
       "      <td>NaN</td>\n",
       "      <td>NaN</td>\n",
       "      <td>NaN</td>\n",
       "      <td>NaN</td>\n",
       "    </tr>\n",
       "    <tr>\n",
       "      <th>iShares MSCI World</th>\n",
       "      <td>NaN</td>\n",
       "      <td>NaN</td>\n",
       "      <td>NaN</td>\n",
       "      <td>NaN</td>\n",
       "      <td>NaN</td>\n",
       "    </tr>\n",
       "  </tbody>\n",
       "</table>\n",
       "</div>"
      ],
      "text/plain": [
       "                                          2015      2016      2017      2018  \\\n",
       "ETF                                                                            \n",
       "iShares MSCI Finland Capped           7.749699  8.412679  7.879856  8.015291   \n",
       "iShares MSCI Denmark Capped           7.876315  8.540917  7.935771  7.934424   \n",
       "iShares MSCI Norway Capped            7.871083  8.509141  7.951596  7.975383   \n",
       "iShares MSCI Netherlands              7.720400  8.328699  7.782795  7.814699   \n",
       "iShares MSCI Switzerland Capped       7.939099  8.521625  7.906231  7.863009   \n",
       "iShares MSCI Sweden Capped            7.705750  8.274226  7.684679  7.681321   \n",
       "iShares MSCI New Zealand Capped       7.624130  8.323025  7.716330  7.691823   \n",
       "iShares MSCI Canada                   7.771674  8.402465  7.718439  7.696024   \n",
       "iShares MSCI Austria Capped           7.534139  8.079031  7.391387  7.497532   \n",
       "iShares MSCI Australia                7.622037  8.299193  7.684679  7.637211   \n",
       "iShares MSCI Israel Capped            7.615759  8.246990  7.609773       NaN   \n",
       "iShares MSCI United Kingdom                NaN       NaN       NaN  7.551093   \n",
       "ishares S&P 500                       7.449380  8.062008  7.377672       NaN   \n",
       "iShares MSCI Ireland                       NaN       NaN  7.360792  7.327396   \n",
       "iShares Currency Hedged MSCI Germany       NaN       NaN       NaN  7.314793   \n",
       "iShares MSCI Mexico Capped            7.520536       NaN       NaN       NaN   \n",
       "iShares MSCI World                         NaN       NaN       NaN       NaN   \n",
       "\n",
       "                                          2019  \n",
       "ETF                                             \n",
       "iShares MSCI Finland Capped           8.779920  \n",
       "iShares MSCI Denmark Capped           8.588929  \n",
       "iShares MSCI Norway Capped            8.536944  \n",
       "iShares MSCI Netherlands              8.462356  \n",
       "iShares MSCI Switzerland Capped       8.453315  \n",
       "iShares MSCI Sweden Capped            8.298488  \n",
       "iShares MSCI New Zealand Capped       8.257803  \n",
       "iShares MSCI Canada                   8.225030  \n",
       "iShares MSCI Austria Capped           8.188866  \n",
       "iShares MSCI Australia                8.168524  \n",
       "iShares MSCI Israel Capped            8.067943  \n",
       "iShares MSCI United Kingdom           7.971883  \n",
       "ishares S&P 500                            NaN  \n",
       "iShares MSCI Ireland                       NaN  \n",
       "iShares Currency Hedged MSCI Germany       NaN  \n",
       "iShares MSCI Mexico Capped                 NaN  \n",
       "iShares MSCI World                         NaN  "
      ]
     },
     "execution_count": 9,
     "metadata": {},
     "output_type": "execute_result"
    }
   ],
   "source": [
    "# Create new Dataframe to weight the ETFs by Happiness Score\n",
    "country_etf_weighted = country_etf_combined\n",
    "\n",
    "\n",
    "# Recalculate Dataframe to Weight each Score by Year\n",
    "\n",
    "country_etf_weighted[\"2015 Weights\"] = (country_etf_weighted[2015]/country_etf_weighted[2015].sum()) * 100\n",
    "country_etf_weighted[\"2016 Weights\"] = (country_etf_weighted[2016]/country_etf_weighted[2016].sum()) * 100\n",
    "country_etf_weighted[\"2017 Weights\"] = (country_etf_weighted[2017]/country_etf_weighted[2017].sum()) * 100\n",
    "country_etf_weighted[\"2018 Weights\"] = (country_etf_weighted[2018]/country_etf_weighted[2018].sum()) * 100\n",
    "country_etf_weighted[\"2019 Weights\"] = (country_etf_weighted[2019]/country_etf_weighted[2019].sum()) * 100\n",
    "\n",
    "# Drop original score columns to leave only the portfolio weights\n",
    "country_etf_weighted = country_etf_weighted.drop(columns=[2015,2016,2017,2018,2019])\n",
    "\n",
    "# Rename the columns\n",
    "columns = [2015,2016,2017,2018,2019]\n",
    "country_etf_weighted.columns = columns\n",
    "\n",
    "# Review the weighted DataFrame\n",
    "country_etf_weighted\n"
   ]
  },
  {
   "cell_type": "code",
   "execution_count": 10,
   "id": "54b26bd5-2bce-4525-8cc0-02f4495b1140",
   "metadata": {},
   "outputs": [
    {
     "data": {
      "text/plain": [
       "2015    100.0\n",
       "2016    100.0\n",
       "2017    100.0\n",
       "2018    100.0\n",
       "2019    100.0\n",
       "dtype: float64"
      ]
     },
     "execution_count": 10,
     "metadata": {},
     "output_type": "execute_result"
    }
   ],
   "source": [
    "# Check all columns total 100\n",
    "country_etf_weighted.sum()"
   ]
  },
  {
   "cell_type": "markdown",
   "id": "0c881ffa-8ba2-4f67-8de3-6f9e0d0d8b2b",
   "metadata": {},
   "source": [
    "## Portfolio Return"
   ]
  },
  {
   "cell_type": "code",
   "execution_count": 32,
   "id": "decf5f6b-2ca1-4322-b1ad-02bbf7ebb97a",
   "metadata": {},
   "outputs": [
    {
     "data": {
      "text/plain": [
       "100.0"
      ]
     },
     "metadata": {},
     "output_type": "display_data"
    },
    {
     "data": {
      "text/html": [
       "<div>\n",
       "<style scoped>\n",
       "    .dataframe tbody tr th:only-of-type {\n",
       "        vertical-align: middle;\n",
       "    }\n",
       "\n",
       "    .dataframe tbody tr th {\n",
       "        vertical-align: top;\n",
       "    }\n",
       "\n",
       "    .dataframe thead th {\n",
       "        text-align: right;\n",
       "    }\n",
       "</style>\n",
       "<table border=\"1\" class=\"dataframe\">\n",
       "  <thead>\n",
       "    <tr style=\"text-align: right;\">\n",
       "      <th></th>\n",
       "      <th>iShares MSCI Finland Capped</th>\n",
       "      <th>iShares MSCI Denmark Capped</th>\n",
       "      <th>iShares MSCI Norway Capped</th>\n",
       "      <th>iShares MSCI Netherlands</th>\n",
       "      <th>iShares MSCI Switzerland Capped</th>\n",
       "      <th>iShares MSCI Sweden Capped</th>\n",
       "      <th>iShares MSCI New Zealand Capped</th>\n",
       "      <th>iShares MSCI Canada</th>\n",
       "      <th>iShares MSCI Austria Capped</th>\n",
       "      <th>iShares MSCI Australia</th>\n",
       "      <th>iShares MSCI Israel Capped</th>\n",
       "      <th>ishares S&amp;P 500</th>\n",
       "      <th>iShares MSCI Mexico Capped</th>\n",
       "    </tr>\n",
       "  </thead>\n",
       "  <tbody>\n",
       "    <tr>\n",
       "      <th>2015-02-01</th>\n",
       "      <td>8.749699</td>\n",
       "      <td>8.876315</td>\n",
       "      <td>8.871083</td>\n",
       "      <td>8.720400</td>\n",
       "      <td>8.939099</td>\n",
       "      <td>8.705750</td>\n",
       "      <td>8.624130</td>\n",
       "      <td>8.771674</td>\n",
       "      <td>8.534139</td>\n",
       "      <td>8.622037</td>\n",
       "      <td>8.615759</td>\n",
       "      <td>8.449380</td>\n",
       "      <td>8.520536</td>\n",
       "    </tr>\n",
       "    <tr>\n",
       "      <th>2015-03-01</th>\n",
       "      <td>9.200385</td>\n",
       "      <td>9.572239</td>\n",
       "      <td>9.207282</td>\n",
       "      <td>9.302002</td>\n",
       "      <td>9.381127</td>\n",
       "      <td>9.317621</td>\n",
       "      <td>9.161041</td>\n",
       "      <td>9.295851</td>\n",
       "      <td>9.581056</td>\n",
       "      <td>9.314318</td>\n",
       "      <td>8.899405</td>\n",
       "      <td>8.926184</td>\n",
       "      <td>9.120381</td>\n",
       "    </tr>\n",
       "    <tr>\n",
       "      <th>2015-04-01</th>\n",
       "      <td>9.000376</td>\n",
       "      <td>9.847982</td>\n",
       "      <td>8.664778</td>\n",
       "      <td>9.189317</td>\n",
       "      <td>9.350157</td>\n",
       "      <td>8.984849</td>\n",
       "      <td>8.961937</td>\n",
       "      <td>9.017174</td>\n",
       "      <td>9.275215</td>\n",
       "      <td>8.991778</td>\n",
       "      <td>9.440573</td>\n",
       "      <td>8.742118</td>\n",
       "      <td>8.779560</td>\n",
       "    </tr>\n",
       "    <tr>\n",
       "      <th>2015-05-01</th>\n",
       "      <td>8.915039</td>\n",
       "      <td>10.345071</td>\n",
       "      <td>9.780349</td>\n",
       "      <td>9.491023</td>\n",
       "      <td>9.724614</td>\n",
       "      <td>9.129766</td>\n",
       "      <td>9.071556</td>\n",
       "      <td>9.660784</td>\n",
       "      <td>9.922186</td>\n",
       "      <td>9.172715</td>\n",
       "      <td>9.640245</td>\n",
       "      <td>8.826780</td>\n",
       "      <td>8.879534</td>\n",
       "    </tr>\n",
       "    <tr>\n",
       "      <th>2015-06-01</th>\n",
       "      <td>9.008377</td>\n",
       "      <td>10.423855</td>\n",
       "      <td>9.394484</td>\n",
       "      <td>9.658233</td>\n",
       "      <td>9.966743</td>\n",
       "      <td>9.113664</td>\n",
       "      <td>8.527934</td>\n",
       "      <td>9.216229</td>\n",
       "      <td>9.863371</td>\n",
       "      <td>8.865909</td>\n",
       "      <td>9.619718</td>\n",
       "      <td>8.941769</td>\n",
       "      <td>8.862872</td>\n",
       "    </tr>\n",
       "    <tr>\n",
       "      <th>2015-07-01</th>\n",
       "      <td>8.667029</td>\n",
       "      <td>10.091837</td>\n",
       "      <td>8.909287</td>\n",
       "      <td>9.338352</td>\n",
       "      <td>9.220645</td>\n",
       "      <td>8.525946</td>\n",
       "      <td>7.758361</td>\n",
       "      <td>8.847978</td>\n",
       "      <td>9.334031</td>\n",
       "      <td>8.271964</td>\n",
       "      <td>9.597325</td>\n",
       "      <td>8.716424</td>\n",
       "      <td>8.650805</td>\n",
       "    </tr>\n",
       "    <tr>\n",
       "      <th>2015-08-01</th>\n",
       "      <td>8.963041</td>\n",
       "      <td>10.585174</td>\n",
       "      <td>8.672419</td>\n",
       "      <td>9.632788</td>\n",
       "      <td>9.600733</td>\n",
       "      <td>8.598404</td>\n",
       "      <td>7.798630</td>\n",
       "      <td>8.476409</td>\n",
       "      <td>9.628109</td>\n",
       "      <td>8.228696</td>\n",
       "      <td>10.302708</td>\n",
       "      <td>8.907230</td>\n",
       "      <td>8.534169</td>\n",
       "    </tr>\n",
       "    <tr>\n",
       "      <th>2015-09-01</th>\n",
       "      <td>8.397684</td>\n",
       "      <td>10.125601</td>\n",
       "      <td>7.973277</td>\n",
       "      <td>8.894880</td>\n",
       "      <td>8.958807</td>\n",
       "      <td>8.139501</td>\n",
       "      <td>7.208028</td>\n",
       "      <td>8.051760</td>\n",
       "      <td>9.145821</td>\n",
       "      <td>7.335812</td>\n",
       "      <td>9.380858</td>\n",
       "      <td>8.360084</td>\n",
       "      <td>8.005517</td>\n",
       "    </tr>\n",
       "    <tr>\n",
       "      <th>2015-10-01</th>\n",
       "      <td>8.096339</td>\n",
       "      <td>9.949276</td>\n",
       "      <td>7.442235</td>\n",
       "      <td>8.505934</td>\n",
       "      <td>8.612505</td>\n",
       "      <td>7.790626</td>\n",
       "      <td>7.154337</td>\n",
       "      <td>7.630427</td>\n",
       "      <td>8.810572</td>\n",
       "      <td>7.048673</td>\n",
       "      <td>8.962853</td>\n",
       "      <td>8.106098</td>\n",
       "      <td>7.810112</td>\n",
       "    </tr>\n",
       "    <tr>\n",
       "      <th>2015-11-01</th>\n",
       "      <td>8.749699</td>\n",
       "      <td>9.938021</td>\n",
       "      <td>7.858664</td>\n",
       "      <td>9.087536</td>\n",
       "      <td>8.944730</td>\n",
       "      <td>8.091195</td>\n",
       "      <td>8.127488</td>\n",
       "      <td>7.895833</td>\n",
       "      <td>9.398728</td>\n",
       "      <td>7.442014</td>\n",
       "      <td>9.401385</td>\n",
       "      <td>8.793084</td>\n",
       "      <td>8.288777</td>\n",
       "    </tr>\n",
       "    <tr>\n",
       "      <th>2015-12-01</th>\n",
       "      <td>8.808368</td>\n",
       "      <td>10.341319</td>\n",
       "      <td>7.870125</td>\n",
       "      <td>8.989391</td>\n",
       "      <td>8.696969</td>\n",
       "      <td>8.123399</td>\n",
       "      <td>8.002208</td>\n",
       "      <td>7.720002</td>\n",
       "      <td>9.251689</td>\n",
       "      <td>7.508882</td>\n",
       "      <td>9.436841</td>\n",
       "      <td>8.827622</td>\n",
       "      <td>8.117609</td>\n",
       "    </tr>\n",
       "  </tbody>\n",
       "</table>\n",
       "</div>"
      ],
      "text/plain": [
       "            iShares MSCI Finland Capped  iShares MSCI Denmark Capped  \\\n",
       "2015-02-01                     8.749699                     8.876315   \n",
       "2015-03-01                     9.200385                     9.572239   \n",
       "2015-04-01                     9.000376                     9.847982   \n",
       "2015-05-01                     8.915039                    10.345071   \n",
       "2015-06-01                     9.008377                    10.423855   \n",
       "2015-07-01                     8.667029                    10.091837   \n",
       "2015-08-01                     8.963041                    10.585174   \n",
       "2015-09-01                     8.397684                    10.125601   \n",
       "2015-10-01                     8.096339                     9.949276   \n",
       "2015-11-01                     8.749699                     9.938021   \n",
       "2015-12-01                     8.808368                    10.341319   \n",
       "\n",
       "            iShares MSCI Norway Capped  iShares MSCI Netherlands  \\\n",
       "2015-02-01                    8.871083                  8.720400   \n",
       "2015-03-01                    9.207282                  9.302002   \n",
       "2015-04-01                    8.664778                  9.189317   \n",
       "2015-05-01                    9.780349                  9.491023   \n",
       "2015-06-01                    9.394484                  9.658233   \n",
       "2015-07-01                    8.909287                  9.338352   \n",
       "2015-08-01                    8.672419                  9.632788   \n",
       "2015-09-01                    7.973277                  8.894880   \n",
       "2015-10-01                    7.442235                  8.505934   \n",
       "2015-11-01                    7.858664                  9.087536   \n",
       "2015-12-01                    7.870125                  8.989391   \n",
       "\n",
       "            iShares MSCI Switzerland Capped  iShares MSCI Sweden Capped  \\\n",
       "2015-02-01                         8.939099                    8.705750   \n",
       "2015-03-01                         9.381127                    9.317621   \n",
       "2015-04-01                         9.350157                    8.984849   \n",
       "2015-05-01                         9.724614                    9.129766   \n",
       "2015-06-01                         9.966743                    9.113664   \n",
       "2015-07-01                         9.220645                    8.525946   \n",
       "2015-08-01                         9.600733                    8.598404   \n",
       "2015-09-01                         8.958807                    8.139501   \n",
       "2015-10-01                         8.612505                    7.790626   \n",
       "2015-11-01                         8.944730                    8.091195   \n",
       "2015-12-01                         8.696969                    8.123399   \n",
       "\n",
       "            iShares MSCI New Zealand Capped  iShares MSCI Canada  \\\n",
       "2015-02-01                         8.624130             8.771674   \n",
       "2015-03-01                         9.161041             9.295851   \n",
       "2015-04-01                         8.961937             9.017174   \n",
       "2015-05-01                         9.071556             9.660784   \n",
       "2015-06-01                         8.527934             9.216229   \n",
       "2015-07-01                         7.758361             8.847978   \n",
       "2015-08-01                         7.798630             8.476409   \n",
       "2015-09-01                         7.208028             8.051760   \n",
       "2015-10-01                         7.154337             7.630427   \n",
       "2015-11-01                         8.127488             7.895833   \n",
       "2015-12-01                         8.002208             7.720002   \n",
       "\n",
       "            iShares MSCI Austria Capped  iShares MSCI Australia  \\\n",
       "2015-02-01                     8.534139                8.622037   \n",
       "2015-03-01                     9.581056                9.314318   \n",
       "2015-04-01                     9.275215                8.991778   \n",
       "2015-05-01                     9.922186                9.172715   \n",
       "2015-06-01                     9.863371                8.865909   \n",
       "2015-07-01                     9.334031                8.271964   \n",
       "2015-08-01                     9.628109                8.228696   \n",
       "2015-09-01                     9.145821                7.335812   \n",
       "2015-10-01                     8.810572                7.048673   \n",
       "2015-11-01                     9.398728                7.442014   \n",
       "2015-12-01                     9.251689                7.508882   \n",
       "\n",
       "            iShares MSCI Israel Capped  ishares S&P 500  \\\n",
       "2015-02-01                    8.615759         8.449380   \n",
       "2015-03-01                    8.899405         8.926184   \n",
       "2015-04-01                    9.440573         8.742118   \n",
       "2015-05-01                    9.640245         8.826780   \n",
       "2015-06-01                    9.619718         8.941769   \n",
       "2015-07-01                    9.597325         8.716424   \n",
       "2015-08-01                   10.302708         8.907230   \n",
       "2015-09-01                    9.380858         8.360084   \n",
       "2015-10-01                    8.962853         8.106098   \n",
       "2015-11-01                    9.401385         8.793084   \n",
       "2015-12-01                    9.436841         8.827622   \n",
       "\n",
       "            iShares MSCI Mexico Capped  \n",
       "2015-02-01                    8.520536  \n",
       "2015-03-01                    9.120381  \n",
       "2015-04-01                    8.779560  \n",
       "2015-05-01                    8.879534  \n",
       "2015-06-01                    8.862872  \n",
       "2015-07-01                    8.650805  \n",
       "2015-08-01                    8.534169  \n",
       "2015-09-01                    8.005517  \n",
       "2015-10-01                    7.810112  \n",
       "2015-11-01                    8.288777  \n",
       "2015-12-01                    8.117609  "
      ]
     },
     "execution_count": 32,
     "metadata": {},
     "output_type": "execute_result"
    }
   ],
   "source": [
    "\n",
    "# Set starting values for 2015 based on weight\n",
    "portfolio_start_2015 = country_etf_weighted.iloc[:,0]\n",
    "\n",
    "# Check total = 100\n",
    "display(portfolio_start_2015.sum())\n",
    "\n",
    "# Create new dataframe for 2015 return calc using the 2015 start values\n",
    "portfolio_return_2015 = pd.DataFrame(portfolio_start_2015)\n",
    "portfolio_return_2015 = portfolio_return_2015.transpose()\n",
    "\n",
    "# Rename weighted value index to start date 01-01-2015\n",
    "portfolio_return_2015 = portfolio_return_2015.reset_index(drop=True)\n",
    "portfolio_return_2015 = portfolio_return_2015.rename(index={0:'2015-01-01'})\n",
    "\n",
    "# Append the all_etf_df monthly returns\n",
    "portfolio_return_2015 = portfolio_return_2015.append(all_etf_df.loc['2015-02-01':'2015-12-31']).sort_index()\n",
    "\n",
    "# Calculate cumulative return and drop na row\n",
    "portfolio_return_2015 = (1 + portfolio_return_2015.shift(1)).cumprod().dropna(how='all')\n",
    "\n",
    "# Drop ETFs not included in portfolio for 2015\n",
    "portfolio_return_2015 = portfolio_return_2015.dropna(axis=1)\n",
    "\n",
    "# Review the dataframe\n",
    "portfolio_return_2015"
   ]
  },
  {
   "cell_type": "code",
   "execution_count": 33,
   "id": "5060e946-f798-4be0-9481-0e2965980465",
   "metadata": {},
   "outputs": [
    {
     "data": {
      "text/plain": [
       "2015-02-01    101.000000\n",
       "2015-03-01    107.750680\n",
       "2015-04-01    106.203950\n",
       "2015-05-01    108.097610\n",
       "2015-06-01    108.560183\n",
       "2015-07-01    104.368112\n",
       "2015-08-01    107.114641\n",
       "2015-09-01    100.074853\n",
       "2015-10-01     96.518821\n",
       "2015-11-01    103.240590\n",
       "2015-12-01    103.529698\n",
       "dtype: float64"
      ]
     },
     "execution_count": 33,
     "metadata": {},
     "output_type": "execute_result"
    }
   ],
   "source": [
    "# Create a new benchmark dataframe, rebase to 100 for comparible data to portfolio\n",
    "\n",
    "benchmark = pd.DataFrame(index=[\"Benchmark\"], data=[100], columns=[\"2015-01-01\"])\n",
    "\n",
    "# Append benchmark data from all_etf_df and combine into a single columns\n",
    "\n",
    "benchmark = benchmark.append(all_etf_df[\"iShares MSCI World\"])\n",
    "benchmark = benchmark.transpose().sum(axis=1)\n",
    "\n",
    "# Slice by date \n",
    "benchmark = benchmark.loc[\"2015-01-01\":\"2015-12-31\"]\n",
    "\n",
    "# Calculate cumulative return and drop na (first value)\n",
    "benchmark = (1 + benchmark.shift(1)).cumprod().dropna()\n",
    "benchmark"
   ]
  },
  {
   "cell_type": "code",
   "execution_count": 34,
   "id": "15c86fc4-8a9a-4dc1-96a9-1fd60dc9a12e",
   "metadata": {},
   "outputs": [
    {
     "data": {
      "text/plain": [
       "2015-02-01    113.000000\n",
       "2015-03-01    120.278893\n",
       "2015-04-01    118.245814\n",
       "2015-05-01    122.559663\n",
       "2015-06-01    121.463158\n",
       "2015-07-01    115.929985\n",
       "2015-08-01    117.928512\n",
       "2015-09-01    109.977630\n",
       "2015-10-01    105.919986\n",
       "2015-11-01    112.017153\n",
       "2015-12-01    111.694424\n",
       "dtype: float64"
      ]
     },
     "execution_count": 34,
     "metadata": {},
     "output_type": "execute_result"
    }
   ],
   "source": [
    "# Combine return for portfolio\n",
    "\n",
    "portfolio_return_2015 = portfolio_return_2015.sum(axis=1)\n",
    "portfolio_return_2015"
   ]
  },
  {
   "cell_type": "code",
   "execution_count": 35,
   "id": "58fe6865-b4d3-47e0-84cd-12ac105bd498",
   "metadata": {},
   "outputs": [
    {
     "data": {
      "text/html": [
       "<div>\n",
       "<style scoped>\n",
       "    .dataframe tbody tr th:only-of-type {\n",
       "        vertical-align: middle;\n",
       "    }\n",
       "\n",
       "    .dataframe tbody tr th {\n",
       "        vertical-align: top;\n",
       "    }\n",
       "\n",
       "    .dataframe thead th {\n",
       "        text-align: right;\n",
       "    }\n",
       "</style>\n",
       "<table border=\"1\" class=\"dataframe\">\n",
       "  <thead>\n",
       "    <tr style=\"text-align: right;\">\n",
       "      <th></th>\n",
       "      <th>Happy Portfolio</th>\n",
       "      <th>Benchmark</th>\n",
       "    </tr>\n",
       "  </thead>\n",
       "  <tbody>\n",
       "    <tr>\n",
       "      <th>2015-01-01</th>\n",
       "      <td>100.000000</td>\n",
       "      <td>100.000000</td>\n",
       "    </tr>\n",
       "    <tr>\n",
       "      <th>2015-02-01</th>\n",
       "      <td>113.000000</td>\n",
       "      <td>101.000000</td>\n",
       "    </tr>\n",
       "    <tr>\n",
       "      <th>2015-03-01</th>\n",
       "      <td>120.278893</td>\n",
       "      <td>107.750680</td>\n",
       "    </tr>\n",
       "    <tr>\n",
       "      <th>2015-04-01</th>\n",
       "      <td>118.245814</td>\n",
       "      <td>106.203950</td>\n",
       "    </tr>\n",
       "    <tr>\n",
       "      <th>2015-05-01</th>\n",
       "      <td>122.559663</td>\n",
       "      <td>108.097610</td>\n",
       "    </tr>\n",
       "    <tr>\n",
       "      <th>2015-06-01</th>\n",
       "      <td>121.463158</td>\n",
       "      <td>108.560183</td>\n",
       "    </tr>\n",
       "    <tr>\n",
       "      <th>2015-07-01</th>\n",
       "      <td>115.929985</td>\n",
       "      <td>104.368112</td>\n",
       "    </tr>\n",
       "    <tr>\n",
       "      <th>2015-08-01</th>\n",
       "      <td>117.928512</td>\n",
       "      <td>107.114641</td>\n",
       "    </tr>\n",
       "    <tr>\n",
       "      <th>2015-09-01</th>\n",
       "      <td>109.977630</td>\n",
       "      <td>100.074853</td>\n",
       "    </tr>\n",
       "    <tr>\n",
       "      <th>2015-10-01</th>\n",
       "      <td>105.919986</td>\n",
       "      <td>96.518821</td>\n",
       "    </tr>\n",
       "    <tr>\n",
       "      <th>2015-11-01</th>\n",
       "      <td>112.017153</td>\n",
       "      <td>103.240590</td>\n",
       "    </tr>\n",
       "    <tr>\n",
       "      <th>2015-12-01</th>\n",
       "      <td>111.694424</td>\n",
       "      <td>103.529698</td>\n",
       "    </tr>\n",
       "  </tbody>\n",
       "</table>\n",
       "</div>"
      ],
      "text/plain": [
       "            Happy Portfolio   Benchmark\n",
       "2015-01-01       100.000000  100.000000\n",
       "2015-02-01       113.000000  101.000000\n",
       "2015-03-01       120.278893  107.750680\n",
       "2015-04-01       118.245814  106.203950\n",
       "2015-05-01       122.559663  108.097610\n",
       "2015-06-01       121.463158  108.560183\n",
       "2015-07-01       115.929985  104.368112\n",
       "2015-08-01       117.928512  107.114641\n",
       "2015-09-01       109.977630  100.074853\n",
       "2015-10-01       105.919986   96.518821\n",
       "2015-11-01       112.017153  103.240590\n",
       "2015-12-01       111.694424  103.529698"
      ]
     },
     "execution_count": 35,
     "metadata": {},
     "output_type": "execute_result"
    }
   ],
   "source": [
    "# Create plot dataframe by combining benchmark and portfolio return dfs\n",
    "\n",
    "plot_df = pd.concat([portfolio_return_2015, benchmark.loc[\"2015-01-01\":\"2015-12-31\"]], axis=1)\n",
    "\n",
    "# Rename columns\n",
    "columns = [\"Happy Portfolio\",\"Benchmark\"]\n",
    "plot_df.columns = columns\n",
    "\n",
    "# Add back in the start value of 100 for the plot\n",
    "new_row = pd.DataFrame({\"Happy Portfolio\":100, \"Benchmark\":100}, index=['2015-01-01'])\n",
    "plot_df = pd.concat([plot_df, new_row]).sort_index()\n",
    "\n",
    "# Review\n",
    "plot_df\n"
   ]
  },
  {
   "cell_type": "code",
   "execution_count": 36,
   "id": "33bfb469-7baa-4ee3-a8bc-7ee96ec4bd30",
   "metadata": {},
   "outputs": [
    {
     "data": {
      "application/vnd.plotly.v1+json": {
       "config": {
        "plotlyServerURL": "https://plot.ly"
       },
       "data": [
        {
         "hovertemplate": "Happy Portfolio=Happy Portfolio<br>Date=%{x}<br>Return=%{y}<extra></extra>",
         "legendgroup": "Happy Portfolio",
         "line": {
          "color": "#636efa",
          "dash": "solid"
         },
         "marker": {
          "symbol": "circle"
         },
         "mode": "lines",
         "name": "Happy Portfolio",
         "orientation": "v",
         "showlegend": true,
         "type": "scatter",
         "x": [
          "2015-01-01",
          "2015-02-01",
          "2015-03-01",
          "2015-04-01",
          "2015-05-01",
          "2015-06-01",
          "2015-07-01",
          "2015-08-01",
          "2015-09-01",
          "2015-10-01",
          "2015-11-01",
          "2015-12-01"
         ],
         "xaxis": "x",
         "y": [
          100,
          113,
          120.27889284975691,
          118.24581415930638,
          122.55966296232914,
          121.46315788787626,
          115.92998450475508,
          117.92851151004565,
          109.97763026407823,
          105.91998595975622,
          112.01715307956452,
          111.69442421020786
         ],
         "yaxis": "y"
        },
        {
         "hovertemplate": "Happy Portfolio=Benchmark<br>Date=%{x}<br>Return=%{y}<extra></extra>",
         "legendgroup": "Benchmark",
         "line": {
          "color": "#EF553B",
          "dash": "solid"
         },
         "marker": {
          "symbol": "circle"
         },
         "mode": "lines",
         "name": "Benchmark",
         "orientation": "v",
         "showlegend": true,
         "type": "scatter",
         "x": [
          "2015-01-01",
          "2015-02-01",
          "2015-03-01",
          "2015-04-01",
          "2015-05-01",
          "2015-06-01",
          "2015-07-01",
          "2015-08-01",
          "2015-09-01",
          "2015-10-01",
          "2015-11-01",
          "2015-12-01"
         ],
         "xaxis": "x",
         "y": [
          100,
          101,
          107.7506798339774,
          106.20395019321597,
          108.09760984685846,
          108.56018319736654,
          104.36811220838702,
          107.11464147702877,
          100.07485329898384,
          96.5188206669529,
          103.24058966652353,
          103.52969801059109
         ],
         "yaxis": "y"
        }
       ],
       "layout": {
        "height": 500,
        "legend": {
         "title": {
          "text": "Happy Portfolio"
         },
         "tracegroupgap": 0
        },
        "template": {
         "data": {
          "bar": [
           {
            "error_x": {
             "color": "#2a3f5f"
            },
            "error_y": {
             "color": "#2a3f5f"
            },
            "marker": {
             "line": {
              "color": "#E5ECF6",
              "width": 0.5
             },
             "pattern": {
              "fillmode": "overlay",
              "size": 10,
              "solidity": 0.2
             }
            },
            "type": "bar"
           }
          ],
          "barpolar": [
           {
            "marker": {
             "line": {
              "color": "#E5ECF6",
              "width": 0.5
             },
             "pattern": {
              "fillmode": "overlay",
              "size": 10,
              "solidity": 0.2
             }
            },
            "type": "barpolar"
           }
          ],
          "carpet": [
           {
            "aaxis": {
             "endlinecolor": "#2a3f5f",
             "gridcolor": "white",
             "linecolor": "white",
             "minorgridcolor": "white",
             "startlinecolor": "#2a3f5f"
            },
            "baxis": {
             "endlinecolor": "#2a3f5f",
             "gridcolor": "white",
             "linecolor": "white",
             "minorgridcolor": "white",
             "startlinecolor": "#2a3f5f"
            },
            "type": "carpet"
           }
          ],
          "choropleth": [
           {
            "colorbar": {
             "outlinewidth": 0,
             "ticks": ""
            },
            "type": "choropleth"
           }
          ],
          "contour": [
           {
            "colorbar": {
             "outlinewidth": 0,
             "ticks": ""
            },
            "colorscale": [
             [
              0,
              "#0d0887"
             ],
             [
              0.1111111111111111,
              "#46039f"
             ],
             [
              0.2222222222222222,
              "#7201a8"
             ],
             [
              0.3333333333333333,
              "#9c179e"
             ],
             [
              0.4444444444444444,
              "#bd3786"
             ],
             [
              0.5555555555555556,
              "#d8576b"
             ],
             [
              0.6666666666666666,
              "#ed7953"
             ],
             [
              0.7777777777777778,
              "#fb9f3a"
             ],
             [
              0.8888888888888888,
              "#fdca26"
             ],
             [
              1,
              "#f0f921"
             ]
            ],
            "type": "contour"
           }
          ],
          "contourcarpet": [
           {
            "colorbar": {
             "outlinewidth": 0,
             "ticks": ""
            },
            "type": "contourcarpet"
           }
          ],
          "heatmap": [
           {
            "colorbar": {
             "outlinewidth": 0,
             "ticks": ""
            },
            "colorscale": [
             [
              0,
              "#0d0887"
             ],
             [
              0.1111111111111111,
              "#46039f"
             ],
             [
              0.2222222222222222,
              "#7201a8"
             ],
             [
              0.3333333333333333,
              "#9c179e"
             ],
             [
              0.4444444444444444,
              "#bd3786"
             ],
             [
              0.5555555555555556,
              "#d8576b"
             ],
             [
              0.6666666666666666,
              "#ed7953"
             ],
             [
              0.7777777777777778,
              "#fb9f3a"
             ],
             [
              0.8888888888888888,
              "#fdca26"
             ],
             [
              1,
              "#f0f921"
             ]
            ],
            "type": "heatmap"
           }
          ],
          "heatmapgl": [
           {
            "colorbar": {
             "outlinewidth": 0,
             "ticks": ""
            },
            "colorscale": [
             [
              0,
              "#0d0887"
             ],
             [
              0.1111111111111111,
              "#46039f"
             ],
             [
              0.2222222222222222,
              "#7201a8"
             ],
             [
              0.3333333333333333,
              "#9c179e"
             ],
             [
              0.4444444444444444,
              "#bd3786"
             ],
             [
              0.5555555555555556,
              "#d8576b"
             ],
             [
              0.6666666666666666,
              "#ed7953"
             ],
             [
              0.7777777777777778,
              "#fb9f3a"
             ],
             [
              0.8888888888888888,
              "#fdca26"
             ],
             [
              1,
              "#f0f921"
             ]
            ],
            "type": "heatmapgl"
           }
          ],
          "histogram": [
           {
            "marker": {
             "pattern": {
              "fillmode": "overlay",
              "size": 10,
              "solidity": 0.2
             }
            },
            "type": "histogram"
           }
          ],
          "histogram2d": [
           {
            "colorbar": {
             "outlinewidth": 0,
             "ticks": ""
            },
            "colorscale": [
             [
              0,
              "#0d0887"
             ],
             [
              0.1111111111111111,
              "#46039f"
             ],
             [
              0.2222222222222222,
              "#7201a8"
             ],
             [
              0.3333333333333333,
              "#9c179e"
             ],
             [
              0.4444444444444444,
              "#bd3786"
             ],
             [
              0.5555555555555556,
              "#d8576b"
             ],
             [
              0.6666666666666666,
              "#ed7953"
             ],
             [
              0.7777777777777778,
              "#fb9f3a"
             ],
             [
              0.8888888888888888,
              "#fdca26"
             ],
             [
              1,
              "#f0f921"
             ]
            ],
            "type": "histogram2d"
           }
          ],
          "histogram2dcontour": [
           {
            "colorbar": {
             "outlinewidth": 0,
             "ticks": ""
            },
            "colorscale": [
             [
              0,
              "#0d0887"
             ],
             [
              0.1111111111111111,
              "#46039f"
             ],
             [
              0.2222222222222222,
              "#7201a8"
             ],
             [
              0.3333333333333333,
              "#9c179e"
             ],
             [
              0.4444444444444444,
              "#bd3786"
             ],
             [
              0.5555555555555556,
              "#d8576b"
             ],
             [
              0.6666666666666666,
              "#ed7953"
             ],
             [
              0.7777777777777778,
              "#fb9f3a"
             ],
             [
              0.8888888888888888,
              "#fdca26"
             ],
             [
              1,
              "#f0f921"
             ]
            ],
            "type": "histogram2dcontour"
           }
          ],
          "mesh3d": [
           {
            "colorbar": {
             "outlinewidth": 0,
             "ticks": ""
            },
            "type": "mesh3d"
           }
          ],
          "parcoords": [
           {
            "line": {
             "colorbar": {
              "outlinewidth": 0,
              "ticks": ""
             }
            },
            "type": "parcoords"
           }
          ],
          "pie": [
           {
            "automargin": true,
            "type": "pie"
           }
          ],
          "scatter": [
           {
            "marker": {
             "colorbar": {
              "outlinewidth": 0,
              "ticks": ""
             }
            },
            "type": "scatter"
           }
          ],
          "scatter3d": [
           {
            "line": {
             "colorbar": {
              "outlinewidth": 0,
              "ticks": ""
             }
            },
            "marker": {
             "colorbar": {
              "outlinewidth": 0,
              "ticks": ""
             }
            },
            "type": "scatter3d"
           }
          ],
          "scattercarpet": [
           {
            "marker": {
             "colorbar": {
              "outlinewidth": 0,
              "ticks": ""
             }
            },
            "type": "scattercarpet"
           }
          ],
          "scattergeo": [
           {
            "marker": {
             "colorbar": {
              "outlinewidth": 0,
              "ticks": ""
             }
            },
            "type": "scattergeo"
           }
          ],
          "scattergl": [
           {
            "marker": {
             "colorbar": {
              "outlinewidth": 0,
              "ticks": ""
             }
            },
            "type": "scattergl"
           }
          ],
          "scattermapbox": [
           {
            "marker": {
             "colorbar": {
              "outlinewidth": 0,
              "ticks": ""
             }
            },
            "type": "scattermapbox"
           }
          ],
          "scatterpolar": [
           {
            "marker": {
             "colorbar": {
              "outlinewidth": 0,
              "ticks": ""
             }
            },
            "type": "scatterpolar"
           }
          ],
          "scatterpolargl": [
           {
            "marker": {
             "colorbar": {
              "outlinewidth": 0,
              "ticks": ""
             }
            },
            "type": "scatterpolargl"
           }
          ],
          "scatterternary": [
           {
            "marker": {
             "colorbar": {
              "outlinewidth": 0,
              "ticks": ""
             }
            },
            "type": "scatterternary"
           }
          ],
          "surface": [
           {
            "colorbar": {
             "outlinewidth": 0,
             "ticks": ""
            },
            "colorscale": [
             [
              0,
              "#0d0887"
             ],
             [
              0.1111111111111111,
              "#46039f"
             ],
             [
              0.2222222222222222,
              "#7201a8"
             ],
             [
              0.3333333333333333,
              "#9c179e"
             ],
             [
              0.4444444444444444,
              "#bd3786"
             ],
             [
              0.5555555555555556,
              "#d8576b"
             ],
             [
              0.6666666666666666,
              "#ed7953"
             ],
             [
              0.7777777777777778,
              "#fb9f3a"
             ],
             [
              0.8888888888888888,
              "#fdca26"
             ],
             [
              1,
              "#f0f921"
             ]
            ],
            "type": "surface"
           }
          ],
          "table": [
           {
            "cells": {
             "fill": {
              "color": "#EBF0F8"
             },
             "line": {
              "color": "white"
             }
            },
            "header": {
             "fill": {
              "color": "#C8D4E3"
             },
             "line": {
              "color": "white"
             }
            },
            "type": "table"
           }
          ]
         },
         "layout": {
          "annotationdefaults": {
           "arrowcolor": "#2a3f5f",
           "arrowhead": 0,
           "arrowwidth": 1
          },
          "autotypenumbers": "strict",
          "coloraxis": {
           "colorbar": {
            "outlinewidth": 0,
            "ticks": ""
           }
          },
          "colorscale": {
           "diverging": [
            [
             0,
             "#8e0152"
            ],
            [
             0.1,
             "#c51b7d"
            ],
            [
             0.2,
             "#de77ae"
            ],
            [
             0.3,
             "#f1b6da"
            ],
            [
             0.4,
             "#fde0ef"
            ],
            [
             0.5,
             "#f7f7f7"
            ],
            [
             0.6,
             "#e6f5d0"
            ],
            [
             0.7,
             "#b8e186"
            ],
            [
             0.8,
             "#7fbc41"
            ],
            [
             0.9,
             "#4d9221"
            ],
            [
             1,
             "#276419"
            ]
           ],
           "sequential": [
            [
             0,
             "#0d0887"
            ],
            [
             0.1111111111111111,
             "#46039f"
            ],
            [
             0.2222222222222222,
             "#7201a8"
            ],
            [
             0.3333333333333333,
             "#9c179e"
            ],
            [
             0.4444444444444444,
             "#bd3786"
            ],
            [
             0.5555555555555556,
             "#d8576b"
            ],
            [
             0.6666666666666666,
             "#ed7953"
            ],
            [
             0.7777777777777778,
             "#fb9f3a"
            ],
            [
             0.8888888888888888,
             "#fdca26"
            ],
            [
             1,
             "#f0f921"
            ]
           ],
           "sequentialminus": [
            [
             0,
             "#0d0887"
            ],
            [
             0.1111111111111111,
             "#46039f"
            ],
            [
             0.2222222222222222,
             "#7201a8"
            ],
            [
             0.3333333333333333,
             "#9c179e"
            ],
            [
             0.4444444444444444,
             "#bd3786"
            ],
            [
             0.5555555555555556,
             "#d8576b"
            ],
            [
             0.6666666666666666,
             "#ed7953"
            ],
            [
             0.7777777777777778,
             "#fb9f3a"
            ],
            [
             0.8888888888888888,
             "#fdca26"
            ],
            [
             1,
             "#f0f921"
            ]
           ]
          },
          "colorway": [
           "#636efa",
           "#EF553B",
           "#00cc96",
           "#ab63fa",
           "#FFA15A",
           "#19d3f3",
           "#FF6692",
           "#B6E880",
           "#FF97FF",
           "#FECB52"
          ],
          "font": {
           "color": "#2a3f5f"
          },
          "geo": {
           "bgcolor": "white",
           "lakecolor": "white",
           "landcolor": "#E5ECF6",
           "showlakes": true,
           "showland": true,
           "subunitcolor": "white"
          },
          "hoverlabel": {
           "align": "left"
          },
          "hovermode": "closest",
          "mapbox": {
           "style": "light"
          },
          "paper_bgcolor": "white",
          "plot_bgcolor": "#E5ECF6",
          "polar": {
           "angularaxis": {
            "gridcolor": "white",
            "linecolor": "white",
            "ticks": ""
           },
           "bgcolor": "#E5ECF6",
           "radialaxis": {
            "gridcolor": "white",
            "linecolor": "white",
            "ticks": ""
           }
          },
          "scene": {
           "xaxis": {
            "backgroundcolor": "#E5ECF6",
            "gridcolor": "white",
            "gridwidth": 2,
            "linecolor": "white",
            "showbackground": true,
            "ticks": "",
            "zerolinecolor": "white"
           },
           "yaxis": {
            "backgroundcolor": "#E5ECF6",
            "gridcolor": "white",
            "gridwidth": 2,
            "linecolor": "white",
            "showbackground": true,
            "ticks": "",
            "zerolinecolor": "white"
           },
           "zaxis": {
            "backgroundcolor": "#E5ECF6",
            "gridcolor": "white",
            "gridwidth": 2,
            "linecolor": "white",
            "showbackground": true,
            "ticks": "",
            "zerolinecolor": "white"
           }
          },
          "shapedefaults": {
           "line": {
            "color": "#2a3f5f"
           }
          },
          "ternary": {
           "aaxis": {
            "gridcolor": "white",
            "linecolor": "white",
            "ticks": ""
           },
           "baxis": {
            "gridcolor": "white",
            "linecolor": "white",
            "ticks": ""
           },
           "bgcolor": "#E5ECF6",
           "caxis": {
            "gridcolor": "white",
            "linecolor": "white",
            "ticks": ""
           }
          },
          "title": {
           "x": 0.05
          },
          "xaxis": {
           "automargin": true,
           "gridcolor": "white",
           "linecolor": "white",
           "ticks": "",
           "title": {
            "standoff": 15
           },
           "zerolinecolor": "white",
           "zerolinewidth": 2
          },
          "yaxis": {
           "automargin": true,
           "gridcolor": "white",
           "linecolor": "white",
           "ticks": "",
           "title": {
            "standoff": 15
           },
           "zerolinecolor": "white",
           "zerolinewidth": 2
          }
         }
        },
        "title": {
         "text": "2015"
        },
        "width": 1000,
        "xaxis": {
         "anchor": "y",
         "autorange": true,
         "domain": [
          0,
          1
         ],
         "range": [
          "2015-01-01",
          "2015-12-01"
         ],
         "title": {
          "text": "Date"
         },
         "type": "date"
        },
        "yaxis": {
         "anchor": "x",
         "autorange": true,
         "domain": [
          0,
          1
         ],
         "range": [
          95.07210720609866,
          124.00637642318338
         ],
         "title": {
          "text": "Return"
         },
         "type": "linear"
        }
       }
      },
      "image/png": "[encoded data removed]",
      "text/html": [
       "<div>                            <div id=\"d8ff6a5a-67cf-4b1f-bdaf-302a6b6dcc3b\" class=\"plotly-graph-div\" style=\"height:500px; width:1000px;\"></div>            <script type=\"text/javascript\">                require([\"plotly\"], function(Plotly) {                    window.PLOTLYENV=window.PLOTLYENV || {};                                    if (document.getElementById(\"d8ff6a5a-67cf-4b1f-bdaf-302a6b6dcc3b\")) {                    Plotly.newPlot(                        \"d8ff6a5a-67cf-4b1f-bdaf-302a6b6dcc3b\",                        [{\"hovertemplate\":\"Happy Portfolio=Happy Portfolio<br>Date=%{x}<br>Return=%{y}<extra></extra>\",\"legendgroup\":\"Happy Portfolio\",\"line\":{\"color\":\"#636efa\",\"dash\":\"solid\"},\"marker\":{\"symbol\":\"circle\"},\"mode\":\"lines\",\"name\":\"Happy Portfolio\",\"orientation\":\"v\",\"showlegend\":true,\"x\":[\"2015-01-01\",\"2015-02-01\",\"2015-03-01\",\"2015-04-01\",\"2015-05-01\",\"2015-06-01\",\"2015-07-01\",\"2015-08-01\",\"2015-09-01\",\"2015-10-01\",\"2015-11-01\",\"2015-12-01\"],\"xaxis\":\"x\",\"y\":[100.0,113.0,120.27889284975691,118.24581415930638,122.55966296232914,121.46315788787626,115.92998450475508,117.92851151004565,109.97763026407823,105.91998595975622,112.01715307956452,111.69442421020786],\"yaxis\":\"y\",\"type\":\"scatter\"},{\"hovertemplate\":\"Happy Portfolio=Benchmark<br>Date=%{x}<br>Return=%{y}<extra></extra>\",\"legendgroup\":\"Benchmark\",\"line\":{\"color\":\"#EF553B\",\"dash\":\"solid\"},\"marker\":{\"symbol\":\"circle\"},\"mode\":\"lines\",\"name\":\"Benchmark\",\"orientation\":\"v\",\"showlegend\":true,\"x\":[\"2015-01-01\",\"2015-02-01\",\"2015-03-01\",\"2015-04-01\",\"2015-05-01\",\"2015-06-01\",\"2015-07-01\",\"2015-08-01\",\"2015-09-01\",\"2015-10-01\",\"2015-11-01\",\"2015-12-01\"],\"xaxis\":\"x\",\"y\":[100.0,101.0,107.7506798339774,106.20395019321597,108.09760984685846,108.56018319736654,104.36811220838702,107.11464147702877,100.07485329898384,96.5188206669529,103.24058966652353,103.52969801059109],\"yaxis\":\"y\",\"type\":\"scatter\"}],                        {\"template\":{\"data\":{\"bar\":[{\"error_x\":{\"color\":\"#2a3f5f\"},\"error_y\":{\"color\":\"#2a3f5f\"},\"marker\":{\"line\":{\"color\":\"#E5ECF6\",\"width\":0.5},\"pattern\":{\"fillmode\":\"overlay\",\"size\":10,\"solidity\":0.2}},\"type\":\"bar\"}],\"barpolar\":[{\"marker\":{\"line\":{\"color\":\"#E5ECF6\",\"width\":0.5},\"pattern\":{\"fillmode\":\"overlay\",\"size\":10,\"solidity\":0.2}},\"type\":\"barpolar\"}],\"carpet\":[{\"aaxis\":{\"endlinecolor\":\"#2a3f5f\",\"gridcolor\":\"white\",\"linecolor\":\"white\",\"minorgridcolor\":\"white\",\"startlinecolor\":\"#2a3f5f\"},\"baxis\":{\"endlinecolor\":\"#2a3f5f\",\"gridcolor\":\"white\",\"linecolor\":\"white\",\"minorgridcolor\":\"white\",\"startlinecolor\":\"#2a3f5f\"},\"type\":\"carpet\"}],\"choropleth\":[{\"colorbar\":{\"outlinewidth\":0,\"ticks\":\"\"},\"type\":\"choropleth\"}],\"contour\":[{\"colorbar\":{\"outlinewidth\":0,\"ticks\":\"\"},\"colorscale\":[[0.0,\"#0d0887\"],[0.1111111111111111,\"#46039f\"],[0.2222222222222222,\"#7201a8\"],[0.3333333333333333,\"#9c179e\"],[0.4444444444444444,\"#bd3786\"],[0.5555555555555556,\"#d8576b\"],[0.6666666666666666,\"#ed7953\"],[0.7777777777777778,\"#fb9f3a\"],[0.8888888888888888,\"#fdca26\"],[1.0,\"#f0f921\"]],\"type\":\"contour\"}],\"contourcarpet\":[{\"colorbar\":{\"outlinewidth\":0,\"ticks\":\"\"},\"type\":\"contourcarpet\"}],\"heatmap\":[{\"colorbar\":{\"outlinewidth\":0,\"ticks\":\"\"},\"colorscale\":[[0.0,\"#0d0887\"],[0.1111111111111111,\"#46039f\"],[0.2222222222222222,\"#7201a8\"],[0.3333333333333333,\"#9c179e\"],[0.4444444444444444,\"#bd3786\"],[0.5555555555555556,\"#d8576b\"],[0.6666666666666666,\"#ed7953\"],[0.7777777777777778,\"#fb9f3a\"],[0.8888888888888888,\"#fdca26\"],[1.0,\"#f0f921\"]],\"type\":\"heatmap\"}],\"heatmapgl\":[{\"colorbar\":{\"outlinewidth\":0,\"ticks\":\"\"},\"colorscale\":[[0.0,\"#0d0887\"],[0.1111111111111111,\"#46039f\"],[0.2222222222222222,\"#7201a8\"],[0.3333333333333333,\"#9c179e\"],[0.4444444444444444,\"#bd3786\"],[0.5555555555555556,\"#d8576b\"],[0.6666666666666666,\"#ed7953\"],[0.7777777777777778,\"#fb9f3a\"],[0.8888888888888888,\"#fdca26\"],[1.0,\"#f0f921\"]],\"type\":\"heatmapgl\"}],\"histogram\":[{\"marker\":{\"pattern\":{\"fillmode\":\"overlay\",\"size\":10,\"solidity\":0.2}},\"type\":\"histogram\"}],\"histogram2d\":[{\"colorbar\":{\"outlinewidth\":0,\"ticks\":\"\"},\"colorscale\":[[0.0,\"#0d0887\"],[0.1111111111111111,\"#46039f\"],[0.2222222222222222,\"#7201a8\"],[0.3333333333333333,\"#9c179e\"],[0.4444444444444444,\"#bd3786\"],[0.5555555555555556,\"#d8576b\"],[0.6666666666666666,\"#ed7953\"],[0.7777777777777778,\"#fb9f3a\"],[0.8888888888888888,\"#fdca26\"],[1.0,\"#f0f921\"]],\"type\":\"histogram2d\"}],\"histogram2dcontour\":[{\"colorbar\":{\"outlinewidth\":0,\"ticks\":\"\"},\"colorscale\":[[0.0,\"#0d0887\"],[0.1111111111111111,\"#46039f\"],[0.2222222222222222,\"#7201a8\"],[0.3333333333333333,\"#9c179e\"],[0.4444444444444444,\"#bd3786\"],[0.5555555555555556,\"#d8576b\"],[0.6666666666666666,\"#ed7953\"],[0.7777777777777778,\"#fb9f3a\"],[0.8888888888888888,\"#fdca26\"],[1.0,\"#f0f921\"]],\"type\":\"histogram2dcontour\"}],\"mesh3d\":[{\"colorbar\":{\"outlinewidth\":0,\"ticks\":\"\"},\"type\":\"mesh3d\"}],\"parcoords\":[{\"line\":{\"colorbar\":{\"outlinewidth\":0,\"ticks\":\"\"}},\"type\":\"parcoords\"}],\"pie\":[{\"automargin\":true,\"type\":\"pie\"}],\"scatter\":[{\"marker\":{\"colorbar\":{\"outlinewidth\":0,\"ticks\":\"\"}},\"type\":\"scatter\"}],\"scatter3d\":[{\"line\":{\"colorbar\":{\"outlinewidth\":0,\"ticks\":\"\"}},\"marker\":{\"colorbar\":{\"outlinewidth\":0,\"ticks\":\"\"}},\"type\":\"scatter3d\"}],\"scattercarpet\":[{\"marker\":{\"colorbar\":{\"outlinewidth\":0,\"ticks\":\"\"}},\"type\":\"scattercarpet\"}],\"scattergeo\":[{\"marker\":{\"colorbar\":{\"outlinewidth\":0,\"ticks\":\"\"}},\"type\":\"scattergeo\"}],\"scattergl\":[{\"marker\":{\"colorbar\":{\"outlinewidth\":0,\"ticks\":\"\"}},\"type\":\"scattergl\"}],\"scattermapbox\":[{\"marker\":{\"colorbar\":{\"outlinewidth\":0,\"ticks\":\"\"}},\"type\":\"scattermapbox\"}],\"scatterpolar\":[{\"marker\":{\"colorbar\":{\"outlinewidth\":0,\"ticks\":\"\"}},\"type\":\"scatterpolar\"}],\"scatterpolargl\":[{\"marker\":{\"colorbar\":{\"outlinewidth\":0,\"ticks\":\"\"}},\"type\":\"scatterpolargl\"}],\"scatterternary\":[{\"marker\":{\"colorbar\":{\"outlinewidth\":0,\"ticks\":\"\"}},\"type\":\"scatterternary\"}],\"surface\":[{\"colorbar\":{\"outlinewidth\":0,\"ticks\":\"\"},\"colorscale\":[[0.0,\"#0d0887\"],[0.1111111111111111,\"#46039f\"],[0.2222222222222222,\"#7201a8\"],[0.3333333333333333,\"#9c179e\"],[0.4444444444444444,\"#bd3786\"],[0.5555555555555556,\"#d8576b\"],[0.6666666666666666,\"#ed7953\"],[0.7777777777777778,\"#fb9f3a\"],[0.8888888888888888,\"#fdca26\"],[1.0,\"#f0f921\"]],\"type\":\"surface\"}],\"table\":[{\"cells\":{\"fill\":{\"color\":\"#EBF0F8\"},\"line\":{\"color\":\"white\"}},\"header\":{\"fill\":{\"color\":\"#C8D4E3\"},\"line\":{\"color\":\"white\"}},\"type\":\"table\"}]},\"layout\":{\"annotationdefaults\":{\"arrowcolor\":\"#2a3f5f\",\"arrowhead\":0,\"arrowwidth\":1},\"autotypenumbers\":\"strict\",\"coloraxis\":{\"colorbar\":{\"outlinewidth\":0,\"ticks\":\"\"}},\"colorscale\":{\"diverging\":[[0,\"#8e0152\"],[0.1,\"#c51b7d\"],[0.2,\"#de77ae\"],[0.3,\"#f1b6da\"],[0.4,\"#fde0ef\"],[0.5,\"#f7f7f7\"],[0.6,\"#e6f5d0\"],[0.7,\"#b8e186\"],[0.8,\"#7fbc41\"],[0.9,\"#4d9221\"],[1,\"#276419\"]],\"sequential\":[[0.0,\"#0d0887\"],[0.1111111111111111,\"#46039f\"],[0.2222222222222222,\"#7201a8\"],[0.3333333333333333,\"#9c179e\"],[0.4444444444444444,\"#bd3786\"],[0.5555555555555556,\"#d8576b\"],[0.6666666666666666,\"#ed7953\"],[0.7777777777777778,\"#fb9f3a\"],[0.8888888888888888,\"#fdca26\"],[1.0,\"#f0f921\"]],\"sequentialminus\":[[0.0,\"#0d0887\"],[0.1111111111111111,\"#46039f\"],[0.2222222222222222,\"#7201a8\"],[0.3333333333333333,\"#9c179e\"],[0.4444444444444444,\"#bd3786\"],[0.5555555555555556,\"#d8576b\"],[0.6666666666666666,\"#ed7953\"],[0.7777777777777778,\"#fb9f3a\"],[0.8888888888888888,\"#fdca26\"],[1.0,\"#f0f921\"]]},\"colorway\":[\"#636efa\",\"#EF553B\",\"#00cc96\",\"#ab63fa\",\"#FFA15A\",\"#19d3f3\",\"#FF6692\",\"#B6E880\",\"#FF97FF\",\"#FECB52\"],\"font\":{\"color\":\"#2a3f5f\"},\"geo\":{\"bgcolor\":\"white\",\"lakecolor\":\"white\",\"landcolor\":\"#E5ECF6\",\"showlakes\":true,\"showland\":true,\"subunitcolor\":\"white\"},\"hoverlabel\":{\"align\":\"left\"},\"hovermode\":\"closest\",\"mapbox\":{\"style\":\"light\"},\"paper_bgcolor\":\"white\",\"plot_bgcolor\":\"#E5ECF6\",\"polar\":{\"angularaxis\":{\"gridcolor\":\"white\",\"linecolor\":\"white\",\"ticks\":\"\"},\"bgcolor\":\"#E5ECF6\",\"radialaxis\":{\"gridcolor\":\"white\",\"linecolor\":\"white\",\"ticks\":\"\"}},\"scene\":{\"xaxis\":{\"backgroundcolor\":\"#E5ECF6\",\"gridcolor\":\"white\",\"gridwidth\":2,\"linecolor\":\"white\",\"showbackground\":true,\"ticks\":\"\",\"zerolinecolor\":\"white\"},\"yaxis\":{\"backgroundcolor\":\"#E5ECF6\",\"gridcolor\":\"white\",\"gridwidth\":2,\"linecolor\":\"white\",\"showbackground\":true,\"ticks\":\"\",\"zerolinecolor\":\"white\"},\"zaxis\":{\"backgroundcolor\":\"#E5ECF6\",\"gridcolor\":\"white\",\"gridwidth\":2,\"linecolor\":\"white\",\"showbackground\":true,\"ticks\":\"\",\"zerolinecolor\":\"white\"}},\"shapedefaults\":{\"line\":{\"color\":\"#2a3f5f\"}},\"ternary\":{\"aaxis\":{\"gridcolor\":\"white\",\"linecolor\":\"white\",\"ticks\":\"\"},\"baxis\":{\"gridcolor\":\"white\",\"linecolor\":\"white\",\"ticks\":\"\"},\"bgcolor\":\"#E5ECF6\",\"caxis\":{\"gridcolor\":\"white\",\"linecolor\":\"white\",\"ticks\":\"\"}},\"title\":{\"x\":0.05},\"xaxis\":{\"automargin\":true,\"gridcolor\":\"white\",\"linecolor\":\"white\",\"ticks\":\"\",\"title\":{\"standoff\":15},\"zerolinecolor\":\"white\",\"zerolinewidth\":2},\"yaxis\":{\"automargin\":true,\"gridcolor\":\"white\",\"linecolor\":\"white\",\"ticks\":\"\",\"title\":{\"standoff\":15},\"zerolinecolor\":\"white\",\"zerolinewidth\":2}}},\"xaxis\":{\"anchor\":\"y\",\"domain\":[0.0,1.0],\"title\":{\"text\":\"Date\"}},\"yaxis\":{\"anchor\":\"x\",\"domain\":[0.0,1.0],\"title\":{\"text\":\"Return\"}},\"legend\":{\"title\":{\"text\":\"Happy Portfolio\"},\"tracegroupgap\":0},\"title\":{\"text\":\"2015\"},\"height\":500,\"width\":1000},                        {\"responsive\": true}                    ).then(function(){\n",
       "                            \n",
       "var gd = document.getElementById('d8ff6a5a-67cf-4b1f-bdaf-302a6b6dcc3b');\n",
       "var x = new MutationObserver(function (mutations, observer) {{\n",
       "        var display = window.getComputedStyle(gd).display;\n",
       "        if (!display || display === 'none') {{\n",
       "            console.log([gd, 'removed!']);\n",
       "            Plotly.purge(gd);\n",
       "            observer.disconnect();\n",
       "        }}\n",
       "}});\n",
       "\n",
       "// Listen for the removal of the full notebook cells\n",
       "var notebookContainer = gd.closest('#notebook-container');\n",
       "if (notebookContainer) {{\n",
       "    x.observe(notebookContainer, {childList: true});\n",
       "}}\n",
       "\n",
       "// Listen for the clearing of the current output cell\n",
       "var outputEl = gd.closest('.output');\n",
       "if (outputEl) {{\n",
       "    x.observe(outputEl, {childList: true});\n",
       "}}\n",
       "\n",
       "                        })                };                });            </script>        </div>"
      ]
     },
     "metadata": {},
     "output_type": "display_data"
    }
   ],
   "source": [
    "# Plot 2015\n",
    "\n",
    "fig = px.line(\n",
    "    plot_df,\n",
    "    title=\"2015\",\n",
    "    height=500,\n",
    "    width=1000,\n",
    "    labels={\n",
    "        \"value\":\"Return\",\n",
    "        \"index\":\"Date\",\n",
    "        \"variable\":\"Happy Portfolio\"\n",
    "    }\n",
    ")\n",
    "fig.show()"
   ]
  },
  {
   "cell_type": "markdown",
   "id": "bf788c74-b173-4725-9b55-2e2bd63cd6b7",
   "metadata": {},
   "source": [
    "## Review calcs needed from here"
   ]
  },
  {
   "cell_type": "code",
   "execution_count": 16,
   "id": "629408e3-54fd-444d-a90a-d782d03e3cd3",
   "metadata": {},
   "outputs": [
    {
     "data": {
      "text/html": [
       "<div>\n",
       "<style scoped>\n",
       "    .dataframe tbody tr th:only-of-type {\n",
       "        vertical-align: middle;\n",
       "    }\n",
       "\n",
       "    .dataframe tbody tr th {\n",
       "        vertical-align: top;\n",
       "    }\n",
       "\n",
       "    .dataframe thead th {\n",
       "        text-align: right;\n",
       "    }\n",
       "</style>\n",
       "<table border=\"1\" class=\"dataframe\">\n",
       "  <thead>\n",
       "    <tr style=\"text-align: right;\">\n",
       "      <th></th>\n",
       "      <th>2015</th>\n",
       "      <th>2016</th>\n",
       "      <th>2017</th>\n",
       "      <th>2018</th>\n",
       "      <th>2019</th>\n",
       "    </tr>\n",
       "  </thead>\n",
       "  <tbody>\n",
       "    <tr>\n",
       "      <th>iShares MSCI Finland Capped</th>\n",
       "      <td>0.002996</td>\n",
       "      <td>0.019479</td>\n",
       "      <td>0.186938</td>\n",
       "      <td>-0.092812</td>\n",
       "      <td>0.076145</td>\n",
       "    </tr>\n",
       "    <tr>\n",
       "      <th>iShares MSCI Denmark Capped</th>\n",
       "      <td>0.189833</td>\n",
       "      <td>-0.080276</td>\n",
       "      <td>0.290187</td>\n",
       "      <td>-0.163079</td>\n",
       "      <td>0.199443</td>\n",
       "    </tr>\n",
       "    <tr>\n",
       "      <th>iShares MSCI Norway Capped</th>\n",
       "      <td>-0.198335</td>\n",
       "      <td>0.149565</td>\n",
       "      <td>0.181443</td>\n",
       "      <td>-0.098098</td>\n",
       "      <td>0.097274</td>\n",
       "    </tr>\n",
       "    <tr>\n",
       "      <th>iShares MSCI Netherlands</th>\n",
       "      <td>0.005124</td>\n",
       "      <td>0.022020</td>\n",
       "      <td>0.279715</td>\n",
       "      <td>-0.175988</td>\n",
       "      <td>0.262903</td>\n",
       "    </tr>\n",
       "    <tr>\n",
       "      <th>iShares MSCI Switzerland Capped</th>\n",
       "      <td>-0.013449</td>\n",
       "      <td>-0.045295</td>\n",
       "      <td>0.192891</td>\n",
       "      <td>-0.113169</td>\n",
       "      <td>0.259286</td>\n",
       "    </tr>\n",
       "    <tr>\n",
       "      <th>iShares MSCI Sweden Capped</th>\n",
       "      <td>-0.105530</td>\n",
       "      <td>-0.004391</td>\n",
       "      <td>0.171200</td>\n",
       "      <td>-0.168124</td>\n",
       "      <td>0.168422</td>\n",
       "    </tr>\n",
       "    <tr>\n",
       "      <th>iShares MSCI New Zealand Capped</th>\n",
       "      <td>-0.007624</td>\n",
       "      <td>0.079026</td>\n",
       "      <td>0.186421</td>\n",
       "      <td>-0.023088</td>\n",
       "      <td>0.235747</td>\n",
       "    </tr>\n",
       "    <tr>\n",
       "      <th>iShares MSCI Canada</th>\n",
       "      <td>-0.210315</td>\n",
       "      <td>0.205191</td>\n",
       "      <td>0.128674</td>\n",
       "      <td>-0.200510</td>\n",
       "      <td>0.232654</td>\n",
       "    </tr>\n",
       "    <tr>\n",
       "      <th>iShares MSCI Austria Capped</th>\n",
       "      <td>0.100030</td>\n",
       "      <td>0.074361</td>\n",
       "      <td>0.411082</td>\n",
       "      <td>-0.274014</td>\n",
       "      <td>0.137626</td>\n",
       "    </tr>\n",
       "    <tr>\n",
       "      <th>iShares MSCI Australia</th>\n",
       "      <td>-0.141334</td>\n",
       "      <td>0.079060</td>\n",
       "      <td>0.140252</td>\n",
       "      <td>-0.177539</td>\n",
       "      <td>0.166867</td>\n",
       "    </tr>\n",
       "    <tr>\n",
       "      <th>iShares MSCI Israel Capped</th>\n",
       "      <td>0.082142</td>\n",
       "      <td>-0.052813</td>\n",
       "      <td>0.108880</td>\n",
       "      <td>-0.040517</td>\n",
       "      <td>0.183285</td>\n",
       "    </tr>\n",
       "    <tr>\n",
       "      <th>iShares MSCI United Kingdom</th>\n",
       "      <td>-0.104462</td>\n",
       "      <td>-0.043582</td>\n",
       "      <td>0.158051</td>\n",
       "      <td>-0.188705</td>\n",
       "      <td>0.158575</td>\n",
       "    </tr>\n",
       "    <tr>\n",
       "      <th>ishares S&amp;P 500</th>\n",
       "      <td>0.030840</td>\n",
       "      <td>0.098622</td>\n",
       "      <td>0.180270</td>\n",
       "      <td>-0.054592</td>\n",
       "      <td>0.261742</td>\n",
       "    </tr>\n",
       "    <tr>\n",
       "      <th>iShares MSCI Ireland</th>\n",
       "      <td>0.235214</td>\n",
       "      <td>-0.085122</td>\n",
       "      <td>0.250768</td>\n",
       "      <td>-0.249437</td>\n",
       "      <td>0.234975</td>\n",
       "    </tr>\n",
       "    <tr>\n",
       "      <th>iShares Currency Hedged MSCI Germany</th>\n",
       "      <td>-0.029208</td>\n",
       "      <td>0.068275</td>\n",
       "      <td>0.109581</td>\n",
       "      <td>-0.181386</td>\n",
       "      <td>0.210140</td>\n",
       "    </tr>\n",
       "    <tr>\n",
       "      <th>iShares MSCI Mexico Capped</th>\n",
       "      <td>-0.120816</td>\n",
       "      <td>-0.104351</td>\n",
       "      <td>0.126422</td>\n",
       "      <td>-0.138307</td>\n",
       "      <td>0.101322</td>\n",
       "    </tr>\n",
       "    <tr>\n",
       "      <th>iShares MSCI World</th>\n",
       "      <td>0.005756</td>\n",
       "      <td>0.054492</td>\n",
       "      <td>0.189116</td>\n",
       "      <td>-0.101141</td>\n",
       "      <td>0.233497</td>\n",
       "    </tr>\n",
       "  </tbody>\n",
       "</table>\n",
       "</div>"
      ],
      "text/plain": [
       "                                          2015      2016      2017      2018  \\\n",
       "iShares MSCI Finland Capped           0.002996  0.019479  0.186938 -0.092812   \n",
       "iShares MSCI Denmark Capped           0.189833 -0.080276  0.290187 -0.163079   \n",
       "iShares MSCI Norway Capped           -0.198335  0.149565  0.181443 -0.098098   \n",
       "iShares MSCI Netherlands              0.005124  0.022020  0.279715 -0.175988   \n",
       "iShares MSCI Switzerland Capped      -0.013449 -0.045295  0.192891 -0.113169   \n",
       "iShares MSCI Sweden Capped           -0.105530 -0.004391  0.171200 -0.168124   \n",
       "iShares MSCI New Zealand Capped      -0.007624  0.079026  0.186421 -0.023088   \n",
       "iShares MSCI Canada                  -0.210315  0.205191  0.128674 -0.200510   \n",
       "iShares MSCI Austria Capped           0.100030  0.074361  0.411082 -0.274014   \n",
       "iShares MSCI Australia               -0.141334  0.079060  0.140252 -0.177539   \n",
       "iShares MSCI Israel Capped            0.082142 -0.052813  0.108880 -0.040517   \n",
       "iShares MSCI United Kingdom          -0.104462 -0.043582  0.158051 -0.188705   \n",
       "ishares S&P 500                       0.030840  0.098622  0.180270 -0.054592   \n",
       "iShares MSCI Ireland                  0.235214 -0.085122  0.250768 -0.249437   \n",
       "iShares Currency Hedged MSCI Germany -0.029208  0.068275  0.109581 -0.181386   \n",
       "iShares MSCI Mexico Capped           -0.120816 -0.104351  0.126422 -0.138307   \n",
       "iShares MSCI World                    0.005756  0.054492  0.189116 -0.101141   \n",
       "\n",
       "                                          2019  \n",
       "iShares MSCI Finland Capped           0.076145  \n",
       "iShares MSCI Denmark Capped           0.199443  \n",
       "iShares MSCI Norway Capped            0.097274  \n",
       "iShares MSCI Netherlands              0.262903  \n",
       "iShares MSCI Switzerland Capped       0.259286  \n",
       "iShares MSCI Sweden Capped            0.168422  \n",
       "iShares MSCI New Zealand Capped       0.235747  \n",
       "iShares MSCI Canada                   0.232654  \n",
       "iShares MSCI Austria Capped           0.137626  \n",
       "iShares MSCI Australia                0.166867  \n",
       "iShares MSCI Israel Capped            0.183285  \n",
       "iShares MSCI United Kingdom           0.158575  \n",
       "ishares S&P 500                       0.261742  \n",
       "iShares MSCI Ireland                  0.234975  \n",
       "iShares Currency Hedged MSCI Germany  0.210140  \n",
       "iShares MSCI Mexico Capped            0.101322  \n",
       "iShares MSCI World                    0.233497  "
      ]
     },
     "execution_count": 16,
     "metadata": {},
     "output_type": "execute_result"
    }
   ],
   "source": [
    "# Annual Return\n",
    "all_etf_df_return_2015 = all_etf_df.loc['2015-01-01':'2015-12-31'].mean() * 12\n",
    "all_etf_df_return_2015 = pd.DataFrame(all_etf_df_return_2015, columns=[2015])\n",
    "\n",
    "all_etf_df_return_2016 = all_etf_df.loc['2016-01-01':'2016-12-31'].mean() * 12\n",
    "all_etf_df_return_2016 = pd.DataFrame(all_etf_df_return_2016, columns=[2016])\n",
    "\n",
    "all_etf_df_return_2017 = all_etf_df.loc['2017-01-01':'2017-12-31'].mean() * 12\n",
    "all_etf_df_return_2017 = pd.DataFrame(all_etf_df_return_2017, columns=[2017])\n",
    "\n",
    "all_etf_df_return_2018 = all_etf_df.loc['2018-01-01':'2018-12-31'].mean() * 12\n",
    "all_etf_df_return_2018 = pd.DataFrame(all_etf_df_return_2018, columns=[2018])\n",
    "\n",
    "all_etf_df_return_2019 = all_etf_df.loc['2019-01-01':'2019-12-31'].mean() * 12\n",
    "all_etf_df_return_2019 = pd.DataFrame(all_etf_df_return_2019, columns=[2019])\n",
    "\n",
    "etf_annual_returns = pd.concat([all_etf_df_return_2015, all_etf_df_return_2016, all_etf_df_return_2017, all_etf_df_return_2018, all_etf_df_return_2019], axis=1)\n",
    "\n",
    "etf_annual_returns"
   ]
  },
  {
   "cell_type": "code",
   "execution_count": null,
   "id": "a71ee601-7047-4dab-afc9-ab13a90470ef",
   "metadata": {},
   "outputs": [],
   "source": [
    "# nineteen_df = pd.DataFrame(wh_2015_2019_df['Happiness Score 2019'])\n",
    "\n",
    "# nineteen_df\n"
   ]
  },
  {
   "cell_type": "code",
   "execution_count": null,
   "id": "0d72efb5-1544-4290-8e4e-6d1e0a27dd3b",
   "metadata": {},
   "outputs": [],
   "source": [
    "# portfolio_weight_2019 = {}\n",
    "\n",
    "# for country in nineteen_df:\n",
    "#     etf = etf_country_map[country] \n",
    "#     weighting = nineteen_df[country]/sum_2019_scores\n",
    "#     portfolio_weight_2019.update({etf:weighting})\n",
    "\n",
    "# portfolio_weight_2019"
   ]
  },
  {
   "cell_type": "markdown",
   "id": "b3c47d86-e8f9-419b-b36b-02e03984c311",
   "metadata": {},
   "source": [
    "## Monthly Portfolio Return vs Benchmark"
   ]
  },
  {
   "cell_type": "code",
   "execution_count": null,
   "id": "27e84fe2-f01a-406e-9400-ba8ca94a6077",
   "metadata": {},
   "outputs": [],
   "source": [
    "# Empty dataframe to collect portfolio weights from below for loop\n",
    "portfolio_2019_df = pd.DataFrame()\n",
    "\n",
    "# Return * Portfolio Weight\n",
    "for etf in portfolio_weight_2019:\n",
    "    etf_column = all_etf_df[etf] * portfolio_weight_2019[etf]\n",
    "    portfolio_2019_df[etf] = etf_column\n",
    "\n",
    "# Filter Dates\n",
    "portfolio_2019_df = portfolio_2019_df.loc['2019-01-01':'2019-12-31']\n",
    "    \n",
    "# Combined return for all funds and rename Happy Portfolio\n",
    "portfolio_2019_df = pd.DataFrame(portfolio_2019_df.sum(axis=1), columns=['Happy Portfolio'])\n",
    "\n",
    "# Add Benchmark\n",
    "benchmark = \"iShares MSCI World\"\n",
    "\n",
    "benchmark_return = pd.DataFrame(all_etf_df[benchmark])\n",
    "\n",
    "# slice by date\n",
    "benchmark_return = benchmark_return.loc[\"2019-01-01\":\"2019-12-31\"]\n",
    "\n",
    "portfolio_2019_df = pd.concat([portfolio_2019_df,benchmark_return], axis=1)\n",
    "portfolio_2019_df"
   ]
  },
  {
   "cell_type": "markdown",
   "id": "12a84d06-5988-4246-a25b-4d35b3967ca8",
   "metadata": {},
   "source": [
    "## Cumulative Portfolio Return vs Benchmark"
   ]
  },
  {
   "cell_type": "code",
   "execution_count": null,
   "id": "bf718509-1df5-4b4e-9d89-e4e34d842047",
   "metadata": {},
   "outputs": [],
   "source": [
    "# cumulative returns\n",
    "cum_portfolio_2019 = (1 + portfolio_2019_df).cumprod()\n",
    "cum_portfolio_2019\n"
   ]
  },
  {
   "cell_type": "code",
   "execution_count": null,
   "id": "152b6193-380f-4343-b61e-9daea947f893",
   "metadata": {},
   "outputs": [],
   "source": [
    "# Plot 2019 vs benchmark\n",
    "\n",
    "fig = px.line(\n",
    "    cum_portfolio_2019,\n",
    "    title=\"Cumulative Return of Happy Portfolio vs Benchmark 2019\",\n",
    "    height=500,\n",
    "    width=1000,\n",
    "    labels={\n",
    "        \"value\":\"Return\",\n",
    "        \"date\":\"Date\",\n",
    "        \"variable\":\"\"\n",
    "    }\n",
    ")\n",
    "fig.show()"
   ]
  },
  {
   "cell_type": "code",
   "execution_count": null,
   "id": "8dbc080c-0ebd-407a-9c44-c7332da5c8f1",
   "metadata": {},
   "outputs": [],
   "source": [
    "## Portfolio and Benchmark Statistics"
   ]
  },
  {
   "cell_type": "code",
   "execution_count": null,
   "id": "f36ecf20-eab1-4150-858f-3ef5b7383fa4",
   "metadata": {},
   "outputs": [],
   "source": [
    "portfolio_2019_df.describe()"
   ]
  },
  {
   "cell_type": "code",
   "execution_count": null,
   "id": "2e8be938-9647-4934-9f32-fc45b527b7cc",
   "metadata": {},
   "outputs": [],
   "source": [
    "fig = px.box(\n",
    "    portfolio_2019_df,\n",
    "    title='Box Plot of Happy Portfolio and Benchmark Returns'\n",
    ")\n",
    "fig.show()"
   ]
  },
  {
   "cell_type": "code",
   "execution_count": null,
   "id": "1443c9eb-e3ec-4cd2-8002-a77976be9c6b",
   "metadata": {},
   "outputs": [],
   "source": [
    "# Sharpe Ratio\n",
    "\n",
    "average_annual_return = portfolio_2019_df.mean() * 12\n",
    "display(average_annual_return)\n",
    "\n",
    "annual_sd_portfolio = portfolio_2019_df.std() * np.sqrt(12)\n",
    "display(annual_sd_portfolio)\n",
    "\n",
    "sharpe_ratios = average_annual_return / annual_sd_portfolio\n",
    "display(sharpe_ratios)\n",
    "\n",
    "fig = px.bar(\n",
    "    sharpe_ratios,\n",
    "    title=\"Sharpe Ratios of Happy Fund and Benchmark\"\n",
    ")\n",
    "fig.show()"
   ]
  },
  {
   "cell_type": "code",
   "execution_count": null,
   "id": "58bf3ad9-a499-417b-a7d6-18e180465f0b",
   "metadata": {},
   "outputs": [],
   "source": [
    "# PULL IN WORLD HAPPINESS DF TO OBTAIN RANKINGS OR SCORE\n",
    "# CREATE WEIGHTINGS VARIABLES PER YEAR\n",
    "# CREATE PERFORMANCE VARIABLES BY YEAR BASED ON WEIGHTINGS AND RANKINGS \n",
    "\n"
   ]
  }
 ],
 "metadata": {
  "kernelspec": {
   "display_name": "dev",
   "language": "python",
   "name": "dev"
  },
  "language_info": {
   "codemirror_mode": {
    "name": "ipython",
    "version": 3
   },
   "file_extension": ".py",
   "mimetype": "text/x-python",
   "name": "python",
   "nbconvert_exporter": "python",
   "pygments_lexer": "ipython3",
   "version": "3.7.13"
  }
 },
 "nbformat": 4,
 "nbformat_minor": 5
}
