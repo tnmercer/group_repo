{
 "cells": [
  {
   "cell_type": "code",
   "execution_count": 1,
   "id": "a2cfff38-70a4-4c0d-9704-f8a54e82c106",
   "metadata": {},
   "outputs": [],
   "source": [
    "import requests\n",
    "import json\n",
    "import os\n",
    "from dotenv import load_dotenv"
   ]
  },
  {
   "cell_type": "code",
   "execution_count": 7,
   "id": "93e36e94-2bc5-4148-a08b-43662870b9c8",
   "metadata": {},
   "outputs": [
    {
     "data": {
      "text/plain": [
       "True"
      ]
     },
     "execution_count": 7,
     "metadata": {},
     "output_type": "execute_result"
    }
   ],
   "source": [
    "load_dotenv()\n"
   ]
  },
  {
   "cell_type": "code",
   "execution_count": 8,
   "id": "51da6b2e-407d-46c1-80f5-a0fcd32b7b52",
   "metadata": {},
   "outputs": [
    {
     "name": "stdout",
     "output_type": "stream",
     "text": [
      "{\n",
      "    \"message\": \"API doesn't exists\"\n",
      "}\n"
     ]
    }
   ],
   "source": [
    "\n",
    "api_key = os.getenv(\"X-RapidAPI-Key\")\n",
    "api_host = os.getenv(\"X-RapidAPI-Host\")\n",
    "\n",
    "\n",
    "# etf_list = (\n",
    "#     \"iShares MSCI Finland Capped\",\n",
    "#     \"iShares MSCI Denmark Capped\",\n",
    "#     \"iShares MSCI Norway Capped\",\n",
    "#     \"iShares MSCI Netherlands\",\n",
    "#     \"iShares MSCI Switzerland Capped\",\n",
    "#     \"iShares MSCI Sweden Capped\",\n",
    "#     \"iShares MSCI New Zealand Capped\",\n",
    "#     \"iShares MSCI Canada\",\n",
    "#     \"iShares MSCI Austria Capped\",\n",
    "#     \"iShares MSCI Australia\",\n",
    "#     \"iShares MSCI Israel Capped\",\n",
    "#     \"iShares MSCI United Kingdom\",\n",
    "#     \"ishares S&P 500\",\n",
    "#     \"iShares MSCI Ireland\",\n",
    "#     \"iShares Currency Hedged MSCI Germany\",\n",
    "#     \"iShares MSCI Mexico Capped\"\n",
    "# )\n",
    "\n",
    "# Missing funds - iceland, luxembourg, costa rica, puerto rico\n",
    "\n",
    "url = \"https://global-market-data.p.rapidapi.com/etf/historical_data\"\n",
    "\n",
    "querystring = {\"etf\":\"iShares MSCI Canada\",\"from_date\":\"2022-01-01\",\"to_date\":\"2022-06-30\",\"country\":\"united states\",\"interval\":\"Monthly\"}\n",
    "\n",
    "headers = {\n",
    "    \"X-RapidAPI-Key\": api_key,\n",
    "    \"X-RapidAPI-Host\": api_host\n",
    "}\n",
    "\n",
    "response = requests.request(\"GET\", url, headers=headers, params=querystring).json()\n",
    "\n",
    "print(json.dumps(response, indent=4, sort_keys=True))"
   ]
  },
  {
   "cell_type": "code",
   "execution_count": null,
   "id": "7c604a19-9c1d-4385-9397-ac118ec7240b",
   "metadata": {},
   "outputs": [],
   "source": []
  }
 ],
 "metadata": {
  "kernelspec": {
   "display_name": "Python 3 (ipykernel)",
   "language": "python",
   "name": "python3"
  },
  "language_info": {
   "codemirror_mode": {
    "name": "ipython",
    "version": 3
   },
   "file_extension": ".py",
   "mimetype": "text/x-python",
   "name": "python",
   "nbconvert_exporter": "python",
   "pygments_lexer": "ipython3",
   "version": "3.7.11"
  }
 },
 "nbformat": 4,
 "nbformat_minor": 5
}
