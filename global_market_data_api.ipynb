{
 "cells": [
  {
   "cell_type": "code",
   "execution_count": 1,
   "id": "a2cfff38-70a4-4c0d-9704-f8a54e82c106",
   "metadata": {},
   "outputs": [],
   "source": [
    "import requests\n",
    "import pandas as pd\n",
    "import json\n",
    "import os\n",
    "from dotenv import load_dotenv"
   ]
  },
  {
   "cell_type": "code",
   "execution_count": 2,
   "id": "93e36e94-2bc5-4148-a08b-43662870b9c8",
   "metadata": {},
   "outputs": [
    {
     "data": {
      "text/plain": [
       "True"
      ]
     },
     "execution_count": 2,
     "metadata": {},
     "output_type": "execute_result"
    }
   ],
   "source": [
    "load_dotenv()\n"
   ]
  },
  {
   "cell_type": "code",
   "execution_count": 5,
   "id": "51da6b2e-407d-46c1-80f5-a0fcd32b7b52",
   "metadata": {},
   "outputs": [
    {
     "name": "stdout",
     "output_type": "stream",
     "text": [
      "{'iShares MSCI Finland Capped': [{'date': '2021-10-01', 'open': 46.92, 'high': 49.06, 'low': 46.54, 'close': 47.97, 'volume': 175625, 'currency': 'USD', 'exchange': 'NYSE'}, {'date': '2021-11-01', 'open': 47.97, 'high': 49.16, 'low': 45.43, 'close': 45.71, 'volume': 152600, 'currency': 'USD', 'exchange': 'NYSE'}, {'date': '2021-12-01', 'open': 46.62, 'high': 48.23, 'low': 45.77, 'close': 47.88, 'volume': 125218, 'currency': 'USD', 'exchange': 'NYSE'}], 'iShares MSCI Denmark Capped': [{'date': '2021-10-01', 'open': 107.3, 'high': 114.97, 'low': 104.51, 'close': 114.01, 'volume': 325654, 'currency': 'USD', 'exchange': 'NYSE'}, {'date': '2021-11-01', 'open': 114.25, 'high': 115.77, 'low': 105.84, 'close': 106.78, 'volume': 313435, 'currency': 'USD', 'exchange': 'NYSE'}, {'date': '2021-12-01', 'open': 107.55, 'high': 111.66, 'low': 103.98, 'close': 111.22, 'volume': 484323, 'currency': 'USD', 'exchange': 'NYSE'}], 'iShares MSCI Norway Capped': [{'date': '2021-10-01', 'open': 29.29, 'high': 31.86, 'low': 28.99, 'close': 30.95, 'volume': 460262, 'currency': 'USD', 'exchange': 'NYSE'}, {'date': '2021-11-01', 'open': 31.29, 'high': 31.61, 'low': 27.9, 'close': 28.22, 'volume': 1030133, 'currency': 'USD', 'exchange': 'NYSE'}, {'date': '2021-12-01', 'open': 28.49, 'high': 29.4, 'low': 27.24, 'close': 29.13, 'volume': 775460, 'currency': 'USD', 'exchange': 'NYSE'}], 'iShares MSCI Netherlands': [{'date': '2021-10-01', 'open': 49.38, 'high': 52.61, 'low': 48.41, 'close': 52.1, 'volume': 3200081, 'currency': 'USD', 'exchange': 'NYSE'}, {'date': '2021-11-01', 'open': 51.98, 'high': 53.29, 'low': 48.82, 'close': 49.17, 'volume': 4164858, 'currency': 'USD', 'exchange': 'NYSE'}, {'date': '2021-12-01', 'open': 49.8, 'high': 50.41, 'low': 47.28, 'close': 50.22, 'volume': 5535069, 'currency': 'USD', 'exchange': 'NYSE'}], 'iShares MSCI Switzerland Capped': [{'date': '2021-10-01', 'open': 46.86, 'high': 50.06, 'low': 46.46, 'close': 49.83, 'volume': 30331982, 'currency': 'USD', 'exchange': 'NYSE'}, {'date': '2021-11-01', 'open': 50.15, 'high': 51.25, 'low': 49.02, 'close': 49.38, 'volume': 29009188, 'currency': 'USD', 'exchange': 'NYSE'}, {'date': '2021-12-01', 'open': 49.63, 'high': 53.06, 'low': 48.95, 'close': 52.73, 'volume': 36798608, 'currency': 'USD', 'exchange': 'NYSE'}], 'iShares MSCI Sweden Capped': [{'date': '2021-10-01', 'open': 45.07, 'high': 48.78, 'low': 44.07, 'close': 47.91, 'volume': 10547379, 'currency': 'USD', 'exchange': 'NYSE'}, {'date': '2021-11-01', 'open': 48.13, 'high': 49.14, 'low': 44.4, 'close': 45.06, 'volume': 5980930, 'currency': 'USD', 'exchange': 'NYSE'}, {'date': '2021-12-01', 'open': 45.64, 'high': 46.95, 'low': 43.62, 'close': 46.33, 'volume': 10335494, 'currency': 'USD', 'exchange': 'NYSE'}], 'iShares MSCI New Zealand Capped': [{'date': '2021-10-01', 'open': 62.47, 'high': 65.01, 'low': 61.23, 'close': 63.84, 'volume': 173905, 'currency': 'USD', 'exchange': 'NASDAQ'}, {'date': '2021-11-01', 'open': 63.8, 'high': 64.4, 'low': 57.9, 'close': 58.65, 'volume': 222863, 'currency': 'USD', 'exchange': 'NASDAQ'}, {'date': '2021-12-01', 'open': 59.31, 'high': 59.57, 'low': 56.54, 'close': 58.88, 'volume': 348026, 'currency': 'USD', 'exchange': 'NASDAQ'}], 'iShares MSCI Canada': [{'date': '2021-10-01', 'open': 36.35, 'high': 39.76, 'low': 36.15, 'close': 39.18, 'volume': 74839456, 'currency': 'USD', 'exchange': 'NYSE'}, {'date': '2021-11-01', 'open': 39.24, 'high': 40.08, 'low': 37.27, 'close': 37.38, 'volume': 68135136, 'currency': 'USD', 'exchange': 'NYSE'}, {'date': '2021-12-01', 'open': 38.02, 'high': 38.83, 'low': 36.01, 'close': 38.43, 'volume': 105424792, 'currency': 'USD', 'exchange': 'NYSE'}], 'iShares MSCI Austria Capped': [{'date': '2021-10-01', 'open': 25.15, 'high': 26.21, 'low': 24.99, 'close': 25.47, 'volume': 409296, 'currency': 'USD', 'exchange': 'NYSE'}, {'date': '2021-11-01', 'open': 25.83, 'high': 26.86, 'low': 24.07, 'close': 24.41, 'volume': 692048, 'currency': 'USD', 'exchange': 'NYSE'}, {'date': '2021-12-01', 'open': 24.79, 'high': 25.69, 'low': 24.32, 'close': 25.45, 'volume': 636402, 'currency': 'USD', 'exchange': 'NYSE'}], 'iShares MSCI Australia': [{'date': '2021-10-01', 'open': 24.88, 'high': 26.85, 'low': 24.72, 'close': 26.46, 'volume': 50046184, 'currency': 'USD', 'exchange': 'NYSE'}, {'date': '2021-11-01', 'open': 26.37, 'high': 26.55, 'low': 24.26, 'close': 24.46, 'volume': 45297944, 'currency': 'USD', 'exchange': 'NYSE'}, {'date': '2021-12-01', 'open': 24.8, 'high': 25.37, 'low': 23.92, 'close': 24.83, 'volume': 67152624, 'currency': 'USD', 'exchange': 'NYSE'}], 'iShares MSCI Israel Capped': [{'date': '2021-10-01', 'open': 71.68, 'high': 76.56, 'low': 70.0, 'close': 75.84, 'volume': 770406, 'currency': 'USD', 'exchange': 'NYSE'}, {'date': '2021-11-01', 'open': 76.62, 'high': 80.07, 'low': 74.66, 'close': 75.2, 'volume': 599788, 'currency': 'USD', 'exchange': 'NYSE'}, {'date': '2021-12-01', 'open': 76.56, 'high': 78.68, 'low': 72.58, 'close': 77.9, 'volume': 1232395, 'currency': 'USD', 'exchange': 'NYSE'}], 'iShares MSCI United Kingdom': [{'date': '2021-10-01', 'open': 32.34, 'high': 34.09, 'low': 32.08, 'close': 33.68, 'volume': 58404000, 'currency': 'USD', 'exchange': 'NYSE'}, {'date': '2021-11-01', 'open': 33.78, 'high': 33.92, 'low': 31.73, 'close': 32.04, 'volume': 38724000, 'currency': 'USD', 'exchange': 'NYSE'}, {'date': '2021-12-01', 'open': 32.45, 'high': 33.42, 'low': 31.48, 'close': 33.14, 'volume': 66978000, 'currency': 'USD', 'exchange': 'NYSE'}], 'ishares S&P 500': [{'date': '2021-10-01', 'open': 432.7, 'high': 461.39, 'low': 428.01, 'close': 460.99, 'volume': 82757000, 'currency': 'USD', 'exchange': 'NYSE'}, {'date': '2021-11-01', 'open': 462.13, 'high': 475.5, 'low': 457.13, 'close': 457.63, 'volume': 91353000, 'currency': 'USD', 'exchange': 'NYSE'}, {'date': '2021-12-01', 'open': 463.45, 'high': 481.09, 'low': 450.74, 'close': 476.99, 'volume': 142130000, 'currency': 'USD', 'exchange': 'NYSE'}], 'iShares MSCI Ireland': [{'date': '2021-10-01', 'open': 58.32, 'high': 59.73, 'low': 57.19, 'close': 59.2, 'volume': 108692, 'currency': 'USD', 'exchange': 'NYSE'}, {'date': '2021-11-01', 'open': 59.4, 'high': 59.68, 'low': 52.01, 'close': 52.41, 'volume': 347179, 'currency': 'USD', 'exchange': 'NYSE'}, {'date': '2021-12-01', 'open': 53.38, 'high': 57.15, 'low': 52.29, 'close': 56.97, 'volume': 350471, 'currency': 'USD', 'exchange': 'NYSE'}], 'iShares Currency Hedged MSCI Germany': [{'date': '2021-10-01', 'open': 32.0, 'high': 33.21, 'low': 31.4, 'close': 32.97, 'volume': 646283, 'currency': 'USD', 'exchange': 'NASDAQ'}, {'date': '2021-11-01', 'open': 33.13, 'high': 34.02, 'low': 31.58, 'close': 31.68, 'volume': 761182, 'currency': 'USD', 'exchange': 'NASDAQ'}, {'date': '2021-12-01', 'open': 32.25, 'high': 33.25, 'low': 31.62, 'close': 32.66, 'volume': 1314326, 'currency': 'USD', 'exchange': 'NASDAQ'}], 'iShares MSCI Mexico Capped': [{'date': '2021-10-01', 'open': 48.76, 'high': 50.37, 'low': 47.15, 'close': 48.35, 'volume': 31944652, 'currency': 'USD', 'exchange': 'NYSE'}, {'date': '2021-11-01', 'open': 48.16, 'high': 50.24, 'low': 43.67, 'close': 45.31, 'volume': 44048088, 'currency': 'USD', 'exchange': 'NYSE'}, {'date': '2021-12-01', 'open': 46.26, 'high': 51.06, 'low': 45.52, 'close': 50.6, 'volume': 39620280, 'currency': 'USD', 'exchange': 'NYSE'}]}\n"
     ]
    }
   ],
   "source": [
    "\n",
    "api_key = os.getenv(\"X-RapidAPI-Key\")\n",
    "api_host = os.getenv(\"X-RapidAPI-Host\")\n",
    "\n",
    "\n",
    "etf_list = [\n",
    "    \"iShares MSCI Finland Capped\",\n",
    "    \"iShares MSCI Denmark Capped\",\n",
    "    \"iShares MSCI Norway Capped\",\n",
    "    \"iShares MSCI Netherlands\",\n",
    "    \"iShares MSCI Switzerland Capped\",\n",
    "    \"iShares MSCI Sweden Capped\",\n",
    "    \"iShares MSCI New Zealand Capped\",\n",
    "    \"iShares MSCI Canada\",\n",
    "    \"iShares MSCI Austria Capped\",\n",
    "    \"iShares MSCI Australia\",\n",
    "    \"iShares MSCI Israel Capped\",\n",
    "    \"iShares MSCI United Kingdom\",\n",
    "    \"ishares S&P 500\",\n",
    "    \"iShares MSCI Ireland\",\n",
    "    \"iShares Currency Hedged MSCI Germany\",\n",
    "    \"iShares MSCI Mexico Capped\"\n",
    "]\n",
    "\n",
    "# Missing funds - iceland, luxembourg, costa rica, puerto rico\n",
    "\n",
    "url = \"https://global-market-data.p.rapidapi.com/etf/historical_data\"\n",
    "\n",
    "all_etfs = {}\n",
    "\n",
    "for etf in etf_list:\n",
    "\n",
    "    querystring = {\"etf\":etf,\"from_date\":\"2021-10-01\",\"to_date\":\"2021-12-31\",\"country\":\"united states\",\"interval\":\"Monthly\"}\n",
    "\n",
    "    headers = {\n",
    "        \"X-RapidAPI-Key\": api_key,\n",
    "        \"X-RapidAPI-Host\": api_host\n",
    "    }\n",
    "\n",
    "    response = requests.get(url, headers=headers, params=querystring).json()\n",
    "\n",
    "    all_etfs.update({etf:response})\n",
    "    \n",
    "print(all_etfs)"
   ]
  },
  {
   "cell_type": "code",
   "execution_count": 33,
   "id": "7c604a19-9c1d-4385-9397-ac118ec7240b",
   "metadata": {},
   "outputs": [
    {
     "name": "stdout",
     "output_type": "stream",
     "text": [
      "iShares MSCI Finland Capped [{'date': '2021-10-01', 'open': 46.92, 'high': 49.06, 'low': 46.54, 'close': 47.97, 'volume': 175625, 'currency': 'USD', 'exchange': 'NYSE'}, {'date': '2021-11-01', 'open': 47.97, 'high': 49.16, 'low': 45.43, 'close': 45.71, 'volume': 152600, 'currency': 'USD', 'exchange': 'NYSE'}, {'date': '2021-12-01', 'open': 46.62, 'high': 48.23, 'low': 45.77, 'close': 47.88, 'volume': 125218, 'currency': 'USD', 'exchange': 'NYSE'}]\n",
      "iShares MSCI Denmark Capped [{'date': '2021-10-01', 'open': 107.3, 'high': 114.97, 'low': 104.51, 'close': 114.01, 'volume': 325654, 'currency': 'USD', 'exchange': 'NYSE'}, {'date': '2021-11-01', 'open': 114.25, 'high': 115.77, 'low': 105.84, 'close': 106.78, 'volume': 313435, 'currency': 'USD', 'exchange': 'NYSE'}, {'date': '2021-12-01', 'open': 107.55, 'high': 111.66, 'low': 103.98, 'close': 111.22, 'volume': 484323, 'currency': 'USD', 'exchange': 'NYSE'}]\n",
      "iShares MSCI Norway Capped [{'date': '2021-10-01', 'open': 29.29, 'high': 31.86, 'low': 28.99, 'close': 30.95, 'volume': 460262, 'currency': 'USD', 'exchange': 'NYSE'}, {'date': '2021-11-01', 'open': 31.29, 'high': 31.61, 'low': 27.9, 'close': 28.22, 'volume': 1030133, 'currency': 'USD', 'exchange': 'NYSE'}, {'date': '2021-12-01', 'open': 28.49, 'high': 29.4, 'low': 27.24, 'close': 29.13, 'volume': 775460, 'currency': 'USD', 'exchange': 'NYSE'}]\n",
      "iShares MSCI Netherlands [{'date': '2021-10-01', 'open': 49.38, 'high': 52.61, 'low': 48.41, 'close': 52.1, 'volume': 3200081, 'currency': 'USD', 'exchange': 'NYSE'}, {'date': '2021-11-01', 'open': 51.98, 'high': 53.29, 'low': 48.82, 'close': 49.17, 'volume': 4164858, 'currency': 'USD', 'exchange': 'NYSE'}, {'date': '2021-12-01', 'open': 49.8, 'high': 50.41, 'low': 47.28, 'close': 50.22, 'volume': 5535069, 'currency': 'USD', 'exchange': 'NYSE'}]\n",
      "iShares MSCI Switzerland Capped [{'date': '2021-10-01', 'open': 46.86, 'high': 50.06, 'low': 46.46, 'close': 49.83, 'volume': 30331982, 'currency': 'USD', 'exchange': 'NYSE'}, {'date': '2021-11-01', 'open': 50.15, 'high': 51.25, 'low': 49.02, 'close': 49.38, 'volume': 29009188, 'currency': 'USD', 'exchange': 'NYSE'}, {'date': '2021-12-01', 'open': 49.63, 'high': 53.06, 'low': 48.95, 'close': 52.73, 'volume': 36798608, 'currency': 'USD', 'exchange': 'NYSE'}]\n",
      "iShares MSCI Sweden Capped [{'date': '2021-10-01', 'open': 45.07, 'high': 48.78, 'low': 44.07, 'close': 47.91, 'volume': 10547379, 'currency': 'USD', 'exchange': 'NYSE'}, {'date': '2021-11-01', 'open': 48.13, 'high': 49.14, 'low': 44.4, 'close': 45.06, 'volume': 5980930, 'currency': 'USD', 'exchange': 'NYSE'}, {'date': '2021-12-01', 'open': 45.64, 'high': 46.95, 'low': 43.62, 'close': 46.33, 'volume': 10335494, 'currency': 'USD', 'exchange': 'NYSE'}]\n",
      "iShares MSCI New Zealand Capped [{'date': '2021-10-01', 'open': 62.47, 'high': 65.01, 'low': 61.23, 'close': 63.84, 'volume': 173905, 'currency': 'USD', 'exchange': 'NASDAQ'}, {'date': '2021-11-01', 'open': 63.8, 'high': 64.4, 'low': 57.9, 'close': 58.65, 'volume': 222863, 'currency': 'USD', 'exchange': 'NASDAQ'}, {'date': '2021-12-01', 'open': 59.31, 'high': 59.57, 'low': 56.54, 'close': 58.88, 'volume': 348026, 'currency': 'USD', 'exchange': 'NASDAQ'}]\n",
      "iShares MSCI Canada [{'date': '2021-10-01', 'open': 36.35, 'high': 39.76, 'low': 36.15, 'close': 39.18, 'volume': 74839456, 'currency': 'USD', 'exchange': 'NYSE'}, {'date': '2021-11-01', 'open': 39.24, 'high': 40.08, 'low': 37.27, 'close': 37.38, 'volume': 68135136, 'currency': 'USD', 'exchange': 'NYSE'}, {'date': '2021-12-01', 'open': 38.02, 'high': 38.83, 'low': 36.01, 'close': 38.43, 'volume': 105424792, 'currency': 'USD', 'exchange': 'NYSE'}]\n",
      "iShares MSCI Austria Capped [{'date': '2021-10-01', 'open': 25.15, 'high': 26.21, 'low': 24.99, 'close': 25.47, 'volume': 409296, 'currency': 'USD', 'exchange': 'NYSE'}, {'date': '2021-11-01', 'open': 25.83, 'high': 26.86, 'low': 24.07, 'close': 24.41, 'volume': 692048, 'currency': 'USD', 'exchange': 'NYSE'}, {'date': '2021-12-01', 'open': 24.79, 'high': 25.69, 'low': 24.32, 'close': 25.45, 'volume': 636402, 'currency': 'USD', 'exchange': 'NYSE'}]\n",
      "iShares MSCI Australia [{'date': '2021-10-01', 'open': 24.88, 'high': 26.85, 'low': 24.72, 'close': 26.46, 'volume': 50046184, 'currency': 'USD', 'exchange': 'NYSE'}, {'date': '2021-11-01', 'open': 26.37, 'high': 26.55, 'low': 24.26, 'close': 24.46, 'volume': 45297944, 'currency': 'USD', 'exchange': 'NYSE'}, {'date': '2021-12-01', 'open': 24.8, 'high': 25.37, 'low': 23.92, 'close': 24.83, 'volume': 67152624, 'currency': 'USD', 'exchange': 'NYSE'}]\n",
      "iShares MSCI Israel Capped [{'date': '2021-10-01', 'open': 71.68, 'high': 76.56, 'low': 70.0, 'close': 75.84, 'volume': 770406, 'currency': 'USD', 'exchange': 'NYSE'}, {'date': '2021-11-01', 'open': 76.62, 'high': 80.07, 'low': 74.66, 'close': 75.2, 'volume': 599788, 'currency': 'USD', 'exchange': 'NYSE'}, {'date': '2021-12-01', 'open': 76.56, 'high': 78.68, 'low': 72.58, 'close': 77.9, 'volume': 1232395, 'currency': 'USD', 'exchange': 'NYSE'}]\n",
      "iShares MSCI United Kingdom [{'date': '2021-10-01', 'open': 32.34, 'high': 34.09, 'low': 32.08, 'close': 33.68, 'volume': 58404000, 'currency': 'USD', 'exchange': 'NYSE'}, {'date': '2021-11-01', 'open': 33.78, 'high': 33.92, 'low': 31.73, 'close': 32.04, 'volume': 38724000, 'currency': 'USD', 'exchange': 'NYSE'}, {'date': '2021-12-01', 'open': 32.45, 'high': 33.42, 'low': 31.48, 'close': 33.14, 'volume': 66978000, 'currency': 'USD', 'exchange': 'NYSE'}]\n",
      "ishares S&P 500 [{'date': '2021-10-01', 'open': 432.7, 'high': 461.39, 'low': 428.01, 'close': 460.99, 'volume': 82757000, 'currency': 'USD', 'exchange': 'NYSE'}, {'date': '2021-11-01', 'open': 462.13, 'high': 475.5, 'low': 457.13, 'close': 457.63, 'volume': 91353000, 'currency': 'USD', 'exchange': 'NYSE'}, {'date': '2021-12-01', 'open': 463.45, 'high': 481.09, 'low': 450.74, 'close': 476.99, 'volume': 142130000, 'currency': 'USD', 'exchange': 'NYSE'}]\n",
      "iShares MSCI Ireland [{'date': '2021-10-01', 'open': 58.32, 'high': 59.73, 'low': 57.19, 'close': 59.2, 'volume': 108692, 'currency': 'USD', 'exchange': 'NYSE'}, {'date': '2021-11-01', 'open': 59.4, 'high': 59.68, 'low': 52.01, 'close': 52.41, 'volume': 347179, 'currency': 'USD', 'exchange': 'NYSE'}, {'date': '2021-12-01', 'open': 53.38, 'high': 57.15, 'low': 52.29, 'close': 56.97, 'volume': 350471, 'currency': 'USD', 'exchange': 'NYSE'}]\n",
      "iShares Currency Hedged MSCI Germany [{'date': '2021-10-01', 'open': 32.0, 'high': 33.21, 'low': 31.4, 'close': 32.97, 'volume': 646283, 'currency': 'USD', 'exchange': 'NASDAQ'}, {'date': '2021-11-01', 'open': 33.13, 'high': 34.02, 'low': 31.58, 'close': 31.68, 'volume': 761182, 'currency': 'USD', 'exchange': 'NASDAQ'}, {'date': '2021-12-01', 'open': 32.25, 'high': 33.25, 'low': 31.62, 'close': 32.66, 'volume': 1314326, 'currency': 'USD', 'exchange': 'NASDAQ'}]\n",
      "iShares MSCI Mexico Capped [{'date': '2021-10-01', 'open': 48.76, 'high': 50.37, 'low': 47.15, 'close': 48.35, 'volume': 31944652, 'currency': 'USD', 'exchange': 'NYSE'}, {'date': '2021-11-01', 'open': 48.16, 'high': 50.24, 'low': 43.67, 'close': 45.31, 'volume': 44048088, 'currency': 'USD', 'exchange': 'NYSE'}, {'date': '2021-12-01', 'open': 46.26, 'high': 51.06, 'low': 45.52, 'close': 50.6, 'volume': 39620280, 'currency': 'USD', 'exchange': 'NYSE'}]\n"
     ]
    }
   ],
   "source": [
    "for key, value in all_etfs.items():\n",
    "   # if value == \"close\":\n",
    "    print(key,value)"
   ]
  },
  {
   "cell_type": "code",
   "execution_count": null,
   "id": "5310dfa9-dd28-40ac-ae8e-eecd45f597ec",
   "metadata": {},
   "outputs": [],
   "source": []
  },
  {
   "cell_type": "code",
   "execution_count": null,
   "id": "49d9eeaa-f382-4a5d-89f5-3f417fd7e9e2",
   "metadata": {},
   "outputs": [],
   "source": [
    "\n"
   ]
  },
  {
   "cell_type": "code",
   "execution_count": null,
   "id": "c1bac3aa-78ef-49a5-8890-a52062e71eb7",
   "metadata": {},
   "outputs": [],
   "source": []
  }
 ],
 "metadata": {
  "kernelspec": {
   "display_name": "Python 3 (ipykernel)",
   "language": "python",
   "name": "python3"
  },
  "language_info": {
   "codemirror_mode": {
    "name": "ipython",
    "version": 3
   },
   "file_extension": ".py",
   "mimetype": "text/x-python",
   "name": "python",
   "nbconvert_exporter": "python",
   "pygments_lexer": "ipython3",
   "version": "3.7.11"
  }
 },
 "nbformat": 4,
 "nbformat_minor": 5
}
